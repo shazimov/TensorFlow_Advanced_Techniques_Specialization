{
 "cells": [
  {
   "cell_type": "markdown",
   "metadata": {
    "colab_type": "text",
    "id": "ZL_6GK8qX35J"
   },
   "source": [
    "\n",
    "\n",
    "# Week 1: Multiple Output Models using the Keras Functional API\n",
    "\n",
    "Welcome to the first programming assignment of the course! Your task will be to use the Keras functional API to train a model to predict two outputs. For this lab, you will use the **[Wine Quality Dataset](https://archive.ics.uci.edu/ml/datasets/Wine+Quality)** from the **UCI machine learning repository**. It has separate datasets for red wine and white wine.\n",
    "\n",
    "Normally, the wines are classified into one of the quality ratings specified in the attributes. In this exercise, you will combine the two datasets to predict the wine quality and whether the wine is red or white solely from the attributes. \n",
    "\n",
    "You will model wine quality estimations as a regression problem and wine type detection as a binary classification problem.\n",
    "\n",
    "#### Please complete sections that are marked **(TODO)**"
   ]
  },
  {
   "cell_type": "markdown",
   "metadata": {
    "colab_type": "text",
    "id": "obdcD6urYBY9"
   },
   "source": [
    "## Imports"
   ]
  },
  {
   "cell_type": "code",
   "execution_count": 1,
   "metadata": {
    "colab": {},
    "colab_type": "code",
    "id": "t8N3pcTQ5oQI"
   },
   "outputs": [],
   "source": [
    "import tensorflow as tf\n",
    "from tensorflow.keras.models import Model\n",
    "from tensorflow.keras.layers import Dense, Input\n",
    "\n",
    "import numpy as np\n",
    "import matplotlib.pyplot as plt\n",
    "import pandas as pd\n",
    "from sklearn.model_selection import train_test_split\n",
    "from sklearn.metrics import confusion_matrix\n",
    "import itertools\n",
    "\n",
    "from tensorflow.python.keras.utils.vis_utils import plot_model"
   ]
  },
  {
   "cell_type": "markdown",
   "metadata": {
    "colab_type": "text",
    "id": "gQMERzWQYpgm"
   },
   "source": [
    "## Load Dataset\n",
    "\n",
    "\n",
    "You will now download the dataset from the [UCI Machine Learning Repository](https://archive.ics.uci.edu/ml/index.php). \n",
    "\n",
    "### Pre-process the white wine dataset (TODO)\n",
    "You will add a new column named `is_red` in your dataframe to indicate if the wine is white or red. \n",
    "- In the white wine dataset, you will fill the column `is_red` with  zeros (0)."
   ]
  },
  {
   "cell_type": "code",
   "execution_count": 2,
   "metadata": {
    "colab": {},
    "colab_type": "code",
    "id": "2qYAjKXCd4RH"
   },
   "outputs": [],
   "source": [
    "# Please uncomment all lines in this cell and replace those marked with `# YOUR CODE HERE`.\n",
    "# You can select all lines in this code cell with Ctrl+A (Windows/Linux) or Cmd+A (Mac), then press Ctrl+/ (Windows/Linux) or Cmd+/ (Mac) to uncomment.\n",
    "\n",
    "\n",
    "\n",
    "# URL of the white wine dataset\n",
    "URL = 'http://archive.ics.uci.edu/ml/machine-learning-databases/wine-quality/winequality-white.csv'\n",
    "\n",
    "# load the dataset from the URL\n",
    "white_df = pd.read_csv(URL, sep=\";\")\n",
    "\n",
    "# fill the `is_red` column with zeros.\n",
    "white_df[\"is_red\"] = 0\n",
    "\n",
    "# keep only the first of duplicate items\n",
    "white_df = white_df.drop_duplicates(keep='first')\n"
   ]
  },
  {
   "cell_type": "code",
   "execution_count": 3,
   "metadata": {
    "colab": {},
    "colab_type": "code",
    "id": "OQHK0ohBQRCk"
   },
   "outputs": [
    {
     "name": "stdout",
     "output_type": "stream",
     "text": [
      "8.8\n",
      "9.1\n"
     ]
    }
   ],
   "source": [
    "print(white_df.alcohol[0])\n",
    "print(white_df.alcohol[100])\n",
    "\n",
    "# EXPECTED OUTPUT\n",
    "# 8.8\n",
    "# 9.1"
   ]
  },
  {
   "cell_type": "markdown",
   "metadata": {},
   "source": [
    "### Pre-process the red wine dataset (TODO)\n",
    "- In the red wine dataset, you will fill in the column `is_red` with ones (1)."
   ]
  },
  {
   "cell_type": "code",
   "execution_count": 4,
   "metadata": {
    "colab": {},
    "colab_type": "code"
   },
   "outputs": [],
   "source": [
    "# Please uncomment all lines in this cell and replace those marked with `# YOUR CODE HERE`.\n",
    "# You can select all lines in this code cell with Ctrl+A (Windows/Linux) or Cmd+A (Mac), then press Ctrl+/ (Windows/Linux) or Cmd+/ (Mac) to uncomment.\n",
    "\n",
    "\n",
    "\n",
    "# URL of the red wine dataset\n",
    "URL = 'http://archive.ics.uci.edu/ml/machine-learning-databases/wine-quality/winequality-red.csv'\n",
    "\n",
    "# load the dataset from the URL\n",
    "red_df = pd.read_csv(URL, sep=\";\")\n",
    "\n",
    "# fill the `is_red` column with ones.\n",
    "red_df[\"is_red\"] = 1\n",
    "\n",
    "# keep only the first of duplicate items\n",
    "red_df = red_df.drop_duplicates(keep='first')\n"
   ]
  },
  {
   "cell_type": "code",
   "execution_count": 5,
   "metadata": {
    "colab": {},
    "colab_type": "code",
    "id": "zsB3LUzNQpo_"
   },
   "outputs": [
    {
     "name": "stdout",
     "output_type": "stream",
     "text": [
      "9.4\n",
      "10.2\n"
     ]
    }
   ],
   "source": [
    "print(red_df.alcohol[0])\n",
    "print(red_df.alcohol[100])\n",
    "\n",
    "# EXPECTED OUTPUT\n",
    "# 9.4\n",
    "# 10.2"
   ]
  },
  {
   "cell_type": "markdown",
   "metadata": {
    "colab_type": "text",
    "id": "2G8B-NYuM6-f"
   },
   "source": [
    "### Concatenate the datasets\n",
    "\n",
    "Next, concatenate the red and white wine dataframes."
   ]
  },
  {
   "cell_type": "code",
   "execution_count": 6,
   "metadata": {
    "colab": {},
    "colab_type": "code",
    "id": "YpQrOjJbfN3m"
   },
   "outputs": [],
   "source": [
    "df = pd.concat([red_df, white_df], ignore_index=True)"
   ]
  },
  {
   "cell_type": "code",
   "execution_count": 7,
   "metadata": {
    "colab": {},
    "colab_type": "code",
    "id": "Se2dTmThQyjb"
   },
   "outputs": [
    {
     "name": "stdout",
     "output_type": "stream",
     "text": [
      "9.4\n",
      "9.5\n"
     ]
    }
   ],
   "source": [
    "print(df.alcohol[0])\n",
    "print(df.alcohol[100])\n",
    "\n",
    "# EXPECTED OUTPUT\n",
    "# 9.4\n",
    "# 9.5"
   ]
  },
  {
   "cell_type": "code",
   "execution_count": 8,
   "metadata": {
    "colab": {},
    "colab_type": "code",
    "id": "wx6y3rPpQv4k"
   },
   "outputs": [],
   "source": [
    "# NOTE: In a real-world scenario, you should shuffle the data.\n",
    "# YOU ARE NOT going to do that here because we want to test\n",
    "# with deterministic data. But if you want the code to do it,\n",
    "# it's in the commented line below:\n",
    "\n",
    "#df = df.iloc[np.random.permutation(len(df))]"
   ]
  },
  {
   "cell_type": "markdown",
   "metadata": {
    "colab_type": "text",
    "id": "-EqIcbg5M_n1"
   },
   "source": [
    "This will chart the quality of the wines."
   ]
  },
  {
   "cell_type": "code",
   "execution_count": 9,
   "metadata": {
    "colab": {},
    "colab_type": "code",
    "id": "IsvK0-Sgy17C"
   },
   "outputs": [
    {
     "data": {
      "image/png": "[encoded data removed]",
      "text/plain": [
       "<Figure size 432x288 with 1 Axes>"
      ]
     },
     "metadata": {
      "needs_background": "light"
     },
     "output_type": "display_data"
    }
   ],
   "source": [
    "df['quality'].hist(bins=20);"
   ]
  },
  {
   "cell_type": "markdown",
   "metadata": {
    "colab_type": "text",
    "id": "Nut1rmYLzf-p"
   },
   "source": [
    "### Imbalanced data (TODO)\n",
    "You can see from the plot above that the wine quality dataset is imbalanced. \n",
    "- Since there are very few observations with quality equal to 3, 4, 8 and 9, you can drop these observations from your dataset. \n",
    "- You can do this by removing data belonging to all classes except those > 4 and < 8."
   ]
  },
  {
   "cell_type": "code",
   "execution_count": 10,
   "metadata": {
    "colab": {},
    "colab_type": "code"
   },
   "outputs": [],
   "source": [
    "# Please uncomment all lines in this cell and replace those marked with `# YOUR CODE HERE`.\n",
    "# You can select all lines in this code cell with Ctrl+A (Windows/Linux) or Cmd+A (Mac), then press Ctrl+/ (Windows/Linux) or Cmd+/ (Mac) to uncomment.\n",
    "\n",
    "\n",
    "\n",
    "# get data with wine quality greater than 4 and less than 8\n",
    "df = df[(df['quality'] > 4) & (df['quality'] < 8)]\n",
    "\n",
    "# reset index and drop the old one\n",
    "df = df.reset_index(drop=True)"
   ]
  },
  {
   "cell_type": "code",
   "execution_count": 11,
   "metadata": {
    "colab": {},
    "colab_type": "code",
    "id": "xNR1iAlMRPXO"
   },
   "outputs": [
    {
     "name": "stdout",
     "output_type": "stream",
     "text": [
      "9.4\n",
      "10.9\n"
     ]
    }
   ],
   "source": [
    "print(df.alcohol[0])\n",
    "print(df.alcohol[100])\n",
    "\n",
    "# EXPECTED OUTPUT\n",
    "# 9.4\n",
    "# 10.9\n"
   ]
  },
  {
   "cell_type": "markdown",
   "metadata": {
    "colab_type": "text",
    "id": "cwhuRpnVRTzG"
   },
   "source": [
    "You can plot again to see the new range of data and quality"
   ]
  },
  {
   "cell_type": "code",
   "execution_count": 12,
   "metadata": {
    "colab": {},
    "colab_type": "code",
    "id": "857ygzZiLgGg"
   },
   "outputs": [
    {
     "data": {
      "image/png": "[encoded data removed]",
      "text/plain": [
       "<Figure size 432x288 with 1 Axes>"
      ]
     },
     "metadata": {
      "needs_background": "light"
     },
     "output_type": "display_data"
    }
   ],
   "source": [
    "df['quality'].hist(bins=20);"
   ]
  },
  {
   "cell_type": "markdown",
   "metadata": {
    "colab_type": "text",
    "id": "n3k0vqSsp84t"
   },
   "source": [
    "### Train Test Split (TODO)\n",
    "\n",
    "Next, you can split the datasets into training, test and validation datasets.\n",
    "- The data frame should be split 80:20 into `train` and `test` sets.\n",
    "- The resulting `train` should then be split 80:20 into `train` and `val` sets.\n",
    "- The `train_test_split` parameter `test_size` takes a float value that ranges between 0. and 1, and represents the proportion of the dataset that is allocated to the test set.  The rest of the data is allocated to the training set."
   ]
  },
  {
   "cell_type": "code",
   "execution_count": 13,
   "metadata": {
    "colab": {},
    "colab_type": "code"
   },
   "outputs": [],
   "source": [
    "# Please uncomment all lines in this cell and replace those marked with `# YOUR CODE HERE`.\n",
    "# You can select all lines in this code cell with Ctrl+A (Windows/Linux) or Cmd+A (Mac), then press Ctrl+/ (Windows/Linux) or Cmd+/ (Mac) to uncomment.\n",
    "\n",
    "\n",
    "\n",
    "# Please do not change the random_state parameter. This is needed for grading.\n",
    "\n",
    "# split df into 80:20 train and test sets\n",
    "train, test = train_test_split(df, test_size=.2, random_state = 1)\n",
    "                               \n",
    "# split train into 80:20 train and val sets\n",
    "train, val = train_test_split(train, test_size=.2, random_state = 1)"
   ]
  },
  {
   "cell_type": "markdown",
   "metadata": {
    "colab_type": "text",
    "id": "RwTNu4KFqG-K"
   },
   "source": [
    "Here's where you can explore the training stats. You can pop the labels 'is_red' and 'quality' from the data as these will be used as the labels\n"
   ]
  },
  {
   "cell_type": "code",
   "execution_count": 14,
   "metadata": {
    "colab": {},
    "colab_type": "code",
    "id": "Y_afyhhHM6WQ"
   },
   "outputs": [],
   "source": [
    "train_stats = train.describe()\n",
    "train_stats.pop('is_red')\n",
    "train_stats.pop('quality')\n",
    "train_stats = train_stats.transpose()"
   ]
  },
  {
   "cell_type": "markdown",
   "metadata": {
    "colab_type": "text",
    "id": "ahvbYm4fNqSt"
   },
   "source": [
    "Explore the training stats!"
   ]
  },
  {
   "cell_type": "code",
   "execution_count": 15,
   "metadata": {
    "colab": {},
    "colab_type": "code",
    "id": "n_gAtPjZ0otF"
   },
   "outputs": [
    {
     "data": {
      "text/html": [
       "<div>\n",
       "<style scoped>\n",
       "    .dataframe tbody tr th:only-of-type {\n",
       "        vertical-align: middle;\n",
       "    }\n",
       "\n",
       "    .dataframe tbody tr th {\n",
       "        vertical-align: top;\n",
       "    }\n",
       "\n",
       "    .dataframe thead th {\n",
       "        text-align: right;\n",
       "    }\n",
       "</style>\n",
       "<table border=\"1\" class=\"dataframe\">\n",
       "  <thead>\n",
       "    <tr style=\"text-align: right;\">\n",
       "      <th></th>\n",
       "      <th>count</th>\n",
       "      <th>mean</th>\n",
       "      <th>std</th>\n",
       "      <th>min</th>\n",
       "      <th>25%</th>\n",
       "      <th>50%</th>\n",
       "      <th>75%</th>\n",
       "      <th>max</th>\n",
       "    </tr>\n",
       "  </thead>\n",
       "  <tbody>\n",
       "    <tr>\n",
       "      <th>fixed acidity</th>\n",
       "      <td>3155.0</td>\n",
       "      <td>7.221616</td>\n",
       "      <td>1.325297</td>\n",
       "      <td>3.80000</td>\n",
       "      <td>6.40000</td>\n",
       "      <td>7.00000</td>\n",
       "      <td>7.7000</td>\n",
       "      <td>15.60000</td>\n",
       "    </tr>\n",
       "    <tr>\n",
       "      <th>volatile acidity</th>\n",
       "      <td>3155.0</td>\n",
       "      <td>0.338929</td>\n",
       "      <td>0.162476</td>\n",
       "      <td>0.08000</td>\n",
       "      <td>0.23000</td>\n",
       "      <td>0.29000</td>\n",
       "      <td>0.4000</td>\n",
       "      <td>1.24000</td>\n",
       "    </tr>\n",
       "    <tr>\n",
       "      <th>citric acid</th>\n",
       "      <td>3155.0</td>\n",
       "      <td>0.321569</td>\n",
       "      <td>0.147970</td>\n",
       "      <td>0.00000</td>\n",
       "      <td>0.25000</td>\n",
       "      <td>0.31000</td>\n",
       "      <td>0.4000</td>\n",
       "      <td>1.66000</td>\n",
       "    </tr>\n",
       "    <tr>\n",
       "      <th>residual sugar</th>\n",
       "      <td>3155.0</td>\n",
       "      <td>5.155911</td>\n",
       "      <td>4.639632</td>\n",
       "      <td>0.60000</td>\n",
       "      <td>1.80000</td>\n",
       "      <td>2.80000</td>\n",
       "      <td>7.6500</td>\n",
       "      <td>65.80000</td>\n",
       "    </tr>\n",
       "    <tr>\n",
       "      <th>chlorides</th>\n",
       "      <td>3155.0</td>\n",
       "      <td>0.056976</td>\n",
       "      <td>0.036802</td>\n",
       "      <td>0.01200</td>\n",
       "      <td>0.03800</td>\n",
       "      <td>0.04700</td>\n",
       "      <td>0.0660</td>\n",
       "      <td>0.61100</td>\n",
       "    </tr>\n",
       "    <tr>\n",
       "      <th>free sulfur dioxide</th>\n",
       "      <td>3155.0</td>\n",
       "      <td>30.388590</td>\n",
       "      <td>17.236784</td>\n",
       "      <td>1.00000</td>\n",
       "      <td>17.00000</td>\n",
       "      <td>28.00000</td>\n",
       "      <td>41.0000</td>\n",
       "      <td>131.00000</td>\n",
       "    </tr>\n",
       "    <tr>\n",
       "      <th>total sulfur dioxide</th>\n",
       "      <td>3155.0</td>\n",
       "      <td>115.062282</td>\n",
       "      <td>56.706617</td>\n",
       "      <td>6.00000</td>\n",
       "      <td>75.00000</td>\n",
       "      <td>117.00000</td>\n",
       "      <td>156.0000</td>\n",
       "      <td>344.00000</td>\n",
       "    </tr>\n",
       "    <tr>\n",
       "      <th>density</th>\n",
       "      <td>3155.0</td>\n",
       "      <td>0.994633</td>\n",
       "      <td>0.003005</td>\n",
       "      <td>0.98711</td>\n",
       "      <td>0.99232</td>\n",
       "      <td>0.99481</td>\n",
       "      <td>0.9968</td>\n",
       "      <td>1.03898</td>\n",
       "    </tr>\n",
       "    <tr>\n",
       "      <th>pH</th>\n",
       "      <td>3155.0</td>\n",
       "      <td>3.223201</td>\n",
       "      <td>0.161272</td>\n",
       "      <td>2.72000</td>\n",
       "      <td>3.11000</td>\n",
       "      <td>3.21000</td>\n",
       "      <td>3.3300</td>\n",
       "      <td>4.01000</td>\n",
       "    </tr>\n",
       "    <tr>\n",
       "      <th>sulphates</th>\n",
       "      <td>3155.0</td>\n",
       "      <td>0.534051</td>\n",
       "      <td>0.149149</td>\n",
       "      <td>0.22000</td>\n",
       "      <td>0.43000</td>\n",
       "      <td>0.51000</td>\n",
       "      <td>0.6000</td>\n",
       "      <td>1.95000</td>\n",
       "    </tr>\n",
       "    <tr>\n",
       "      <th>alcohol</th>\n",
       "      <td>3155.0</td>\n",
       "      <td>10.504466</td>\n",
       "      <td>1.154654</td>\n",
       "      <td>8.50000</td>\n",
       "      <td>9.50000</td>\n",
       "      <td>10.30000</td>\n",
       "      <td>11.3000</td>\n",
       "      <td>14.00000</td>\n",
       "    </tr>\n",
       "  </tbody>\n",
       "</table>\n",
       "</div>"
      ],
      "text/plain": [
       "                       count        mean        std      min       25%  \\\n",
       "fixed acidity         3155.0    7.221616   1.325297  3.80000   6.40000   \n",
       "volatile acidity      3155.0    0.338929   0.162476  0.08000   0.23000   \n",
       "citric acid           3155.0    0.321569   0.147970  0.00000   0.25000   \n",
       "residual sugar        3155.0    5.155911   4.639632  0.60000   1.80000   \n",
       "chlorides             3155.0    0.056976   0.036802  0.01200   0.03800   \n",
       "free sulfur dioxide   3155.0   30.388590  17.236784  1.00000  17.00000   \n",
       "total sulfur dioxide  3155.0  115.062282  56.706617  6.00000  75.00000   \n",
       "density               3155.0    0.994633   0.003005  0.98711   0.99232   \n",
       "pH                    3155.0    3.223201   0.161272  2.72000   3.11000   \n",
       "sulphates             3155.0    0.534051   0.149149  0.22000   0.43000   \n",
       "alcohol               3155.0   10.504466   1.154654  8.50000   9.50000   \n",
       "\n",
       "                            50%       75%        max  \n",
       "fixed acidity           7.00000    7.7000   15.60000  \n",
       "volatile acidity        0.29000    0.4000    1.24000  \n",
       "citric acid             0.31000    0.4000    1.66000  \n",
       "residual sugar          2.80000    7.6500   65.80000  \n",
       "chlorides               0.04700    0.0660    0.61100  \n",
       "free sulfur dioxide    28.00000   41.0000  131.00000  \n",
       "total sulfur dioxide  117.00000  156.0000  344.00000  \n",
       "density                 0.99481    0.9968    1.03898  \n",
       "pH                      3.21000    3.3300    4.01000  \n",
       "sulphates               0.51000    0.6000    1.95000  \n",
       "alcohol                10.30000   11.3000   14.00000  "
      ]
     },
     "execution_count": 15,
     "metadata": {},
     "output_type": "execute_result"
    }
   ],
   "source": [
    "train_stats"
   ]
  },
  {
   "cell_type": "markdown",
   "metadata": {
    "colab_type": "text",
    "id": "bGPvt9jir_HC"
   },
   "source": [
    "### Get the labels (TODO)\n",
    "\n",
    "The features and labels are currently in the same dataframe.\n",
    "- You will want to store the label columns `is_red` and `quality` separately from the feature columns.  \n",
    "- The following function, `format_output`, gets these two columns from the dataframe (it's given to you).\n",
    "- `format_output` also formats the data into numpy arrays. \n",
    "- Please use the `format_output` and apply it to the `train`, `val` and `test` sets to get dataframes for the labels."
   ]
  },
  {
   "cell_type": "code",
   "execution_count": 16,
   "metadata": {
    "colab": {},
    "colab_type": "code",
    "id": "Z_fs14XQqZVP"
   },
   "outputs": [],
   "source": [
    "def format_output(data):\n",
    "    is_red = data.pop('is_red')\n",
    "    is_red = np.array(is_red)\n",
    "    quality = data.pop('quality')\n",
    "    quality = np.array(quality)\n",
    "    return (quality, is_red)"
   ]
  },
  {
   "cell_type": "code",
   "execution_count": 17,
   "metadata": {
    "colab": {},
    "colab_type": "code"
   },
   "outputs": [],
   "source": [
    "# Please uncomment all lines in this cell and replace those marked with `# YOUR CODE HERE`.\n",
    "# You can select all lines in this code cell with Ctrl+A (Windows/Linux) or Cmd+A (Mac), then press Ctrl+/ (Windows/Linux) or Cmd+/ (Mac) to uncomment.\n",
    "\n",
    "\n",
    "\n",
    "# format the output of the train set\n",
    "train_Y = format_output(train)\n",
    "\n",
    "# format the output of the val set\n",
    "val_Y = format_output(val)\n",
    "    \n",
    "# format the output of the test set\n",
    "test_Y = format_output(test)"
   ]
  },
  {
   "cell_type": "markdown",
   "metadata": {},
   "source": [
    "Notice that after you get the labels, the `train`, `val` and `test` dataframes no longer contain the label columns, and contain just the feature columns.\n",
    "- This is because you used `.pop` in the `format_output` function."
   ]
  },
  {
   "cell_type": "code",
   "execution_count": 18,
   "metadata": {},
   "outputs": [
    {
     "data": {
      "text/html": [
       "<div>\n",
       "<style scoped>\n",
       "    .dataframe tbody tr th:only-of-type {\n",
       "        vertical-align: middle;\n",
       "    }\n",
       "\n",
       "    .dataframe tbody tr th {\n",
       "        vertical-align: top;\n",
       "    }\n",
       "\n",
       "    .dataframe thead th {\n",
       "        text-align: right;\n",
       "    }\n",
       "</style>\n",
       "<table border=\"1\" class=\"dataframe\">\n",
       "  <thead>\n",
       "    <tr style=\"text-align: right;\">\n",
       "      <th></th>\n",
       "      <th>fixed acidity</th>\n",
       "      <th>volatile acidity</th>\n",
       "      <th>citric acid</th>\n",
       "      <th>residual sugar</th>\n",
       "      <th>chlorides</th>\n",
       "      <th>free sulfur dioxide</th>\n",
       "      <th>total sulfur dioxide</th>\n",
       "      <th>density</th>\n",
       "      <th>pH</th>\n",
       "      <th>sulphates</th>\n",
       "      <th>alcohol</th>\n",
       "    </tr>\n",
       "  </thead>\n",
       "  <tbody>\n",
       "    <tr>\n",
       "      <th>225</th>\n",
       "      <td>7.5</td>\n",
       "      <td>0.65</td>\n",
       "      <td>0.18</td>\n",
       "      <td>7.0</td>\n",
       "      <td>0.088</td>\n",
       "      <td>27.0</td>\n",
       "      <td>94.0</td>\n",
       "      <td>0.99915</td>\n",
       "      <td>3.38</td>\n",
       "      <td>0.77</td>\n",
       "      <td>9.4</td>\n",
       "    </tr>\n",
       "    <tr>\n",
       "      <th>3557</th>\n",
       "      <td>6.3</td>\n",
       "      <td>0.27</td>\n",
       "      <td>0.29</td>\n",
       "      <td>12.2</td>\n",
       "      <td>0.044</td>\n",
       "      <td>59.0</td>\n",
       "      <td>196.0</td>\n",
       "      <td>0.99782</td>\n",
       "      <td>3.14</td>\n",
       "      <td>0.40</td>\n",
       "      <td>8.8</td>\n",
       "    </tr>\n",
       "    <tr>\n",
       "      <th>3825</th>\n",
       "      <td>8.8</td>\n",
       "      <td>0.27</td>\n",
       "      <td>0.25</td>\n",
       "      <td>5.0</td>\n",
       "      <td>0.024</td>\n",
       "      <td>52.0</td>\n",
       "      <td>99.0</td>\n",
       "      <td>0.99250</td>\n",
       "      <td>2.87</td>\n",
       "      <td>0.49</td>\n",
       "      <td>11.4</td>\n",
       "    </tr>\n",
       "    <tr>\n",
       "      <th>1740</th>\n",
       "      <td>6.4</td>\n",
       "      <td>0.45</td>\n",
       "      <td>0.07</td>\n",
       "      <td>1.1</td>\n",
       "      <td>0.030</td>\n",
       "      <td>10.0</td>\n",
       "      <td>131.0</td>\n",
       "      <td>0.99050</td>\n",
       "      <td>2.97</td>\n",
       "      <td>0.28</td>\n",
       "      <td>10.8</td>\n",
       "    </tr>\n",
       "    <tr>\n",
       "      <th>1221</th>\n",
       "      <td>7.2</td>\n",
       "      <td>0.53</td>\n",
       "      <td>0.13</td>\n",
       "      <td>2.0</td>\n",
       "      <td>0.058</td>\n",
       "      <td>18.0</td>\n",
       "      <td>22.0</td>\n",
       "      <td>0.99573</td>\n",
       "      <td>3.21</td>\n",
       "      <td>0.68</td>\n",
       "      <td>9.9</td>\n",
       "    </tr>\n",
       "  </tbody>\n",
       "</table>\n",
       "</div>"
      ],
      "text/plain": [
       "      fixed acidity  volatile acidity  citric acid  residual sugar  chlorides  \\\n",
       "225             7.5              0.65         0.18             7.0      0.088   \n",
       "3557            6.3              0.27         0.29            12.2      0.044   \n",
       "3825            8.8              0.27         0.25             5.0      0.024   \n",
       "1740            6.4              0.45         0.07             1.1      0.030   \n",
       "1221            7.2              0.53         0.13             2.0      0.058   \n",
       "\n",
       "      free sulfur dioxide  total sulfur dioxide  density    pH  sulphates  \\\n",
       "225                  27.0                  94.0  0.99915  3.38       0.77   \n",
       "3557                 59.0                 196.0  0.99782  3.14       0.40   \n",
       "3825                 52.0                  99.0  0.99250  2.87       0.49   \n",
       "1740                 10.0                 131.0  0.99050  2.97       0.28   \n",
       "1221                 18.0                  22.0  0.99573  3.21       0.68   \n",
       "\n",
       "      alcohol  \n",
       "225       9.4  \n",
       "3557      8.8  \n",
       "3825     11.4  \n",
       "1740     10.8  \n",
       "1221      9.9  "
      ]
     },
     "execution_count": 18,
     "metadata": {},
     "output_type": "execute_result"
    }
   ],
   "source": [
    "train.head()"
   ]
  },
  {
   "cell_type": "code",
   "execution_count": null,
   "metadata": {},
   "outputs": [],
   "source": []
  },
  {
   "cell_type": "markdown",
   "metadata": {
    "colab_type": "text",
    "id": "hEdbrruAsN1D"
   },
   "source": [
    "### Normalize the data (TODO)\n",
    "\n",
    "Next, you can normalize the data, x, using the formula:\n",
    "$$x_{norm} = \\frac{x - \\mu}{\\sigma}$$\n",
    "- The `norm` function is defined for you.\n",
    "- Please apply the `norm` function to normalize the dataframes that contains the feature columns of `train`, `val` and `test` sets."
   ]
  },
  {
   "cell_type": "code",
   "execution_count": 19,
   "metadata": {
    "colab": {},
    "colab_type": "code",
    "id": "WWiZPAHCLjUs"
   },
   "outputs": [],
   "source": [
    "def norm(x):\n",
    "    return (x - train_stats['mean']) / train_stats['std']"
   ]
  },
  {
   "cell_type": "code",
   "execution_count": 20,
   "metadata": {
    "colab": {},
    "colab_type": "code"
   },
   "outputs": [],
   "source": [
    "# Please uncomment all lines in this cell and replace those marked with `# YOUR CODE HERE`.\n",
    "# You can select all lines in this code cell with Ctrl+A (Windows/Linux) or Cmd+A (Mac), then press Ctrl+/ (Windows/Linux) or Cmd+/ (Mac) to uncomment.\n",
    "\n",
    "\n",
    "\n",
    "# normalize the train set\n",
    "norm_train_X = norm(train)\n",
    "    \n",
    "# normalize the val set\n",
    "norm_val_X = norm(val)\n",
    "    \n",
    "# normalize the test set\n",
    "norm_test_X = norm(test)"
   ]
  },
  {
   "cell_type": "code",
   "execution_count": 21,
   "metadata": {},
   "outputs": [
    {
     "data": {
      "text/html": [
       "<div>\n",
       "<style scoped>\n",
       "    .dataframe tbody tr th:only-of-type {\n",
       "        vertical-align: middle;\n",
       "    }\n",
       "\n",
       "    .dataframe tbody tr th {\n",
       "        vertical-align: top;\n",
       "    }\n",
       "\n",
       "    .dataframe thead th {\n",
       "        text-align: right;\n",
       "    }\n",
       "</style>\n",
       "<table border=\"1\" class=\"dataframe\">\n",
       "  <thead>\n",
       "    <tr style=\"text-align: right;\">\n",
       "      <th></th>\n",
       "      <th>fixed acidity</th>\n",
       "      <th>volatile acidity</th>\n",
       "      <th>citric acid</th>\n",
       "      <th>residual sugar</th>\n",
       "      <th>chlorides</th>\n",
       "      <th>free sulfur dioxide</th>\n",
       "      <th>total sulfur dioxide</th>\n",
       "      <th>density</th>\n",
       "      <th>pH</th>\n",
       "      <th>sulphates</th>\n",
       "      <th>alcohol</th>\n",
       "    </tr>\n",
       "  </thead>\n",
       "  <tbody>\n",
       "    <tr>\n",
       "      <th>225</th>\n",
       "      <td>0.210054</td>\n",
       "      <td>1.914565</td>\n",
       "      <td>-0.956741</td>\n",
       "      <td>0.397464</td>\n",
       "      <td>0.842996</td>\n",
       "      <td>-0.196591</td>\n",
       "      <td>-0.371425</td>\n",
       "      <td>1.503235</td>\n",
       "      <td>0.972264</td>\n",
       "      <td>1.581966</td>\n",
       "      <td>-0.956534</td>\n",
       "    </tr>\n",
       "    <tr>\n",
       "      <th>3557</th>\n",
       "      <td>-0.695404</td>\n",
       "      <td>-0.424239</td>\n",
       "      <td>-0.213347</td>\n",
       "      <td>1.518243</td>\n",
       "      <td>-0.352585</td>\n",
       "      <td>1.659904</td>\n",
       "      <td>1.427306</td>\n",
       "      <td>1.060647</td>\n",
       "      <td>-0.515907</td>\n",
       "      <td>-0.898768</td>\n",
       "      <td>-1.476170</td>\n",
       "    </tr>\n",
       "    <tr>\n",
       "      <th>3825</th>\n",
       "      <td>1.190966</td>\n",
       "      <td>-0.424239</td>\n",
       "      <td>-0.483672</td>\n",
       "      <td>-0.033604</td>\n",
       "      <td>-0.896032</td>\n",
       "      <td>1.253796</td>\n",
       "      <td>-0.283252</td>\n",
       "      <td>-0.709707</td>\n",
       "      <td>-2.190100</td>\n",
       "      <td>-0.295346</td>\n",
       "      <td>0.775586</td>\n",
       "    </tr>\n",
       "    <tr>\n",
       "      <th>1740</th>\n",
       "      <td>-0.619949</td>\n",
       "      <td>0.683616</td>\n",
       "      <td>-1.700136</td>\n",
       "      <td>-0.874188</td>\n",
       "      <td>-0.732998</td>\n",
       "      <td>-1.182853</td>\n",
       "      <td>0.281056</td>\n",
       "      <td>-1.375253</td>\n",
       "      <td>-1.570029</td>\n",
       "      <td>-1.703331</td>\n",
       "      <td>0.255950</td>\n",
       "    </tr>\n",
       "    <tr>\n",
       "      <th>1221</th>\n",
       "      <td>-0.016311</td>\n",
       "      <td>1.175995</td>\n",
       "      <td>-1.294648</td>\n",
       "      <td>-0.680207</td>\n",
       "      <td>0.027827</td>\n",
       "      <td>-0.718730</td>\n",
       "      <td>-1.641119</td>\n",
       "      <td>0.365151</td>\n",
       "      <td>-0.081857</td>\n",
       "      <td>0.978544</td>\n",
       "      <td>-0.523504</td>\n",
       "    </tr>\n",
       "  </tbody>\n",
       "</table>\n",
       "</div>"
      ],
      "text/plain": [
       "      fixed acidity  volatile acidity  citric acid  residual sugar  chlorides  \\\n",
       "225        0.210054          1.914565    -0.956741        0.397464   0.842996   \n",
       "3557      -0.695404         -0.424239    -0.213347        1.518243  -0.352585   \n",
       "3825       1.190966         -0.424239    -0.483672       -0.033604  -0.896032   \n",
       "1740      -0.619949          0.683616    -1.700136       -0.874188  -0.732998   \n",
       "1221      -0.016311          1.175995    -1.294648       -0.680207   0.027827   \n",
       "\n",
       "      free sulfur dioxide  total sulfur dioxide   density        pH  \\\n",
       "225             -0.196591             -0.371425  1.503235  0.972264   \n",
       "3557             1.659904              1.427306  1.060647 -0.515907   \n",
       "3825             1.253796             -0.283252 -0.709707 -2.190100   \n",
       "1740            -1.182853              0.281056 -1.375253 -1.570029   \n",
       "1221            -0.718730             -1.641119  0.365151 -0.081857   \n",
       "\n",
       "      sulphates   alcohol  \n",
       "225    1.581966 -0.956534  \n",
       "3557  -0.898768 -1.476170  \n",
       "3825  -0.295346  0.775586  \n",
       "1740  -1.703331  0.255950  \n",
       "1221   0.978544 -0.523504  "
      ]
     },
     "execution_count": 21,
     "metadata": {},
     "output_type": "execute_result"
    }
   ],
   "source": [
    "norm_train_X.head()"
   ]
  },
  {
   "cell_type": "markdown",
   "metadata": {
    "colab_type": "text",
    "id": "hzykDwQhsaPO"
   },
   "source": [
    "## Define the Model (TODO)\n",
    "\n",
    "Define the model using the functional API. The base model will be 2 `Dense` layers of 128 neurons each, and have the `'relu'` activation.\n",
    "- Check out the documentation for [tf.keras.layers.Dense](https://www.tensorflow.org/api_docs/python/tf/keras/layers/Dense)"
   ]
  },
  {
   "cell_type": "code",
   "execution_count": 22,
   "metadata": {
    "colab": {},
    "colab_type": "code"
   },
   "outputs": [],
   "source": [
    "# Please uncomment all lines in this cell and replace those marked with `# YOUR CODE HERE`.\n",
    "# You can select all lines in this code cell with Ctrl+A (Windows/Linux) or Cmd+A (Mac), then press Ctrl+/ (Windows/Linux) or Cmd+/ (Mac) to uncomment.\n",
    "\n",
    "\n",
    "\n",
    "def base_model(inputs):\n",
    "    \n",
    "    # connect a Dense layer with 128 neurons and a relu activation\n",
    "    x = Dense(units='128', activation='relu')(inputs)\n",
    "    \n",
    "    # connect another Dense layer with 128 neurons and a relu activation\n",
    "    x = Dense(units='128', activation='relu')(x)\n",
    "    return x\n",
    "  "
   ]
  },
  {
   "cell_type": "markdown",
   "metadata": {
    "colab_type": "text",
    "id": "xem_fcVws6Kz"
   },
   "source": [
    "# Define output layers of the model (TODO)\n",
    "\n",
    "You will add output layers to the base model. \n",
    "- The model will need two outputs.\n",
    "\n",
    "One output layer will predict wine quality, which is a numeric value.\n",
    "- Define a `Dense` layer with 1 neuron.\n",
    "- Since this is a regression output, the activation can be left as its default value `None`.\n",
    "\n",
    "The other output layer will predict the wine type, which is either red `1` or not red `0` (white).\n",
    "- Define a `Dense` layer with 1 neuron.\n",
    "- Since there are two possible categories, you can use a sigmoid activation for binary classification.\n",
    "\n",
    "Define the `Model`\n",
    "- Define the `Model` object, and set the following parameters:\n",
    "  - `inputs`: pass in the inputs to the model as a list.\n",
    "  - `outputs`: pass in a list of the outputs that you just defined: wine quality, then wine type.\n",
    "  - **Note**: please list the wine quality before wine type in the outputs, as this will affect the calculated loss if you choose the other order."
   ]
  },
  {
   "cell_type": "code",
   "execution_count": 23,
   "metadata": {
    "colab": {},
    "colab_type": "code"
   },
   "outputs": [],
   "source": [
    "# Please uncomment all lines in this cell and replace those marked with `# YOUR CODE HERE`.\n",
    "# You can select all lines in this code cell with Ctrl+A (Windows/Linux) or Cmd+A (Mac), then press Ctrl+/ (Windows/Linux) or Cmd+/ (Mac) to uncomment.\n",
    "\n",
    "\n",
    "\n",
    "def final_model(inputs):\n",
    "    \n",
    "    # get the base model\n",
    "    x = base_model(inputs)\n",
    "\n",
    "    # connect the output Dense layer for regression\n",
    "    wine_quality = Dense(units='1', name='wine_quality')(x)\n",
    "\n",
    "    # connect the output Dense layer for classification. this will use a sigmoid activation.\n",
    "    wine_type = Dense(units='1', activation='sigmoid', name='wine_type')(x)\n",
    "\n",
    "    # define the model using the input and output layers\n",
    "    model = Model(inputs=inputs, outputs=[wine_quality, wine_type])\n",
    "\n",
    "    return model"
   ]
  },
  {
   "cell_type": "markdown",
   "metadata": {
    "colab_type": "text",
    "id": "5R0BMTsltZyu"
   },
   "source": [
    "## Compiling the Model\n",
    "\n",
    "Next, compile the model. When setting the loss parameter of `model.compile`, you're setting the loss for each of the two outputs (wine quality and wine type).\n",
    "\n",
    "To set more than one loss, use a dictionary of key-value pairs.\n",
    "- You can look at the docs for the losses [here](https://www.tensorflow.org/api_docs/python/tf/keras/losses#functions).\n",
    "    - **Note**: For the desired spelling, please look at the \"Functions\" section of the documentation and not the \"classes\" section on that same page.\n",
    "- wine_type: Since you will be performing binary classification on wine type, you should use the binary crossentropy loss function for it.  Please pass this in as a string.  \n",
    "  - **Hint**, this should be all lowercase.  In the documentation, you'll see this under the \"Functions\" section, not the \"Classes\" section.\n",
    "- wine_quality: since this is a regression output, use the mean squared error.  Please pass it in as a string, all lowercase.\n",
    "  - **Hint**: You may notice that there are two aliases for mean squared error.  Please use the shorter name.\n",
    "\n",
    "\n",
    "You will also set the metric for each of the two outputs.  Again, to set metrics for two or more outputs, use a dictionary with key value pairs.\n",
    "- The metrics documentation is linked [here](https://www.tensorflow.org/api_docs/python/tf/keras/metrics).\n",
    "- For the wine type, please set it to accuracy as a string, all lowercase.\n",
    "- For wine quality, please use the root mean squared error.  Instead of a string, you'll set it to an instance of the class [RootMeanSquaredError](https://www.tensorflow.org/api_docs/python/tf/keras/metrics/RootMeanSquaredError), which belongs to the tf.keras.metrics module.\n",
    "\n",
    "**Note**: If you see the error message \n",
    ">Exception: wine quality loss function is incorrect.\n",
    "\n",
    "- Please also check your other losses and metrics, as the error may be caused by the other three key-value pairs and not the wine quality loss."
   ]
  },
  {
   "cell_type": "code",
   "execution_count": 24,
   "metadata": {
    "colab": {},
    "colab_type": "code"
   },
   "outputs": [],
   "source": [
    "# Please uncomment all lines in this cell and replace those marked with `# YOUR CODE HERE`.\n",
    "# You can select all lines in this code cell with Ctrl+A (Windows/Linux) or Cmd+A (Mac), then press Ctrl+/ (Windows/Linux) or Cmd+/ (Mac) to uncomment.\n",
    "\n",
    "\n",
    "\n",
    "inputs = tf.keras.layers.Input(shape=(11,))\n",
    "rms = tf.keras.optimizers.RMSprop(lr=0.0001)\n",
    "model = final_model(inputs)\n",
    "\n",
    "model.compile(optimizer=rms, \n",
    "              loss = {'wine_type' : 'binary_crossentropy',\n",
    "                      'wine_quality' : 'mean_squared_error'\n",
    "                     },\n",
    "              metrics = {'wine_type' : 'accuracy',\n",
    "                         'wine_quality': tf.keras.metrics.RootMeanSquaredError()\n",
    "                       }\n",
    "             )\n"
   ]
  },
  {
   "cell_type": "code",
   "execution_count": 25,
   "metadata": {},
   "outputs": [
    {
     "name": "stdout",
     "output_type": "stream",
     "text": [
      "Model: \"model\"\n",
      "__________________________________________________________________________________________________\n",
      "Layer (type)                    Output Shape         Param #     Connected to                     \n",
      "==================================================================================================\n",
      "input_1 (InputLayer)            [(None, 11)]         0                                            \n",
      "__________________________________________________________________________________________________\n",
      "dense (Dense)                   (None, 128)          1536        input_1[0][0]                    \n",
      "__________________________________________________________________________________________________\n",
      "dense_1 (Dense)                 (None, 128)          16512       dense[0][0]                      \n",
      "__________________________________________________________________________________________________\n",
      "wine_quality (Dense)            (None, 1)            129         dense_1[0][0]                    \n",
      "__________________________________________________________________________________________________\n",
      "wine_type (Dense)               (None, 1)            129         dense_1[0][0]                    \n",
      "==================================================================================================\n",
      "Total params: 18,306\n",
      "Trainable params: 18,306\n",
      "Non-trainable params: 0\n",
      "__________________________________________________________________________________________________\n",
      "None\n"
     ]
    }
   ],
   "source": [
    "print(model.summary())"
   ]
  },
  {
   "cell_type": "code",
   "execution_count": 26,
   "metadata": {},
   "outputs": [
    {
     "data": {
      "image/png": "[encoded data removed]",
      "text/plain": [
       "<IPython.core.display.Image object>"
      ]
     },
     "execution_count": 26,
     "metadata": {},
     "output_type": "execute_result"
    }
   ],
   "source": [
    "plot_model(model, show_shapes=True, show_layer_names=True, to_file='model.png')"
   ]
  },
  {
   "cell_type": "code",
   "execution_count": 27,
   "metadata": {},
   "outputs": [
    {
     "data": {
      "text/plain": [
       "['loss',\n",
       " 'wine_quality_loss',\n",
       " 'wine_type_loss',\n",
       " 'wine_quality_root_mean_squared_error',\n",
       " 'wine_type_accuracy']"
      ]
     },
     "execution_count": 27,
     "metadata": {},
     "output_type": "execute_result"
    }
   ],
   "source": [
    "model.metrics_names"
   ]
  },
  {
   "cell_type": "markdown",
   "metadata": {
    "colab_type": "text",
    "id": "90MpAMpWuKm-"
   },
   "source": [
    "## Training the Model\n",
    "\n",
    "Fit the model to the training inputs and outputs. \n",
    "- Check the documentation for [model.fit](https://www.tensorflow.org/api_docs/python/tf/keras/Model#fit).\n",
    "- Remember to use the normalized training set as inputs. \n",
    "- For the validation data, please use the normalized validation set."
   ]
  },
  {
   "cell_type": "code",
   "execution_count": 28,
   "metadata": {
    "colab": {},
    "colab_type": "code"
   },
   "outputs": [
    {
     "name": "stdout",
     "output_type": "stream",
     "text": [
      "Train on 3155 samples, validate on 789 samples\n",
      "Epoch 1/180\n",
      "3155/3155 [==============================] - 1s 236us/sample - loss: 24.2372 - wine_quality_loss: 23.5251 - wine_type_loss: 0.6906 - wine_quality_root_mean_squared_error: 4.8525 - wine_type_accuracy: 0.5385 - val_loss: 16.7010 - val_wine_quality_loss: 16.0636 - val_wine_type_loss: 0.6487 - val_wine_quality_root_mean_squared_error: 4.0065 - val_wine_type_accuracy: 0.7161\n",
      "Epoch 2/180\n",
      "3155/3155 [==============================] - 0s 70us/sample - loss: 10.7190 - wine_quality_loss: 10.0939 - wine_type_loss: 0.6024 - wine_quality_root_mean_squared_error: 3.1806 - wine_type_accuracy: 0.7540 - val_loss: 6.0684 - val_wine_quality_loss: 5.5447 - val_wine_type_loss: 0.5615 - val_wine_quality_root_mean_squared_error: 2.3466 - val_wine_type_accuracy: 0.7389\n",
      "Epoch 3/180\n",
      "3155/3155 [==============================] - 0s 48us/sample - loss: 4.2256 - wine_quality_loss: 3.7041 - wine_type_loss: 0.5131 - wine_quality_root_mean_squared_error: 1.9267 - wine_type_accuracy: 0.7487 - val_loss: 3.1958 - val_wine_quality_loss: 2.7660 - val_wine_type_loss: 0.4733 - val_wine_quality_root_mean_squared_error: 1.6498 - val_wine_type_accuracy: 0.7516\n",
      "Epoch 4/180\n",
      "3155/3155 [==============================] - 0s 47us/sample - loss: 2.9090 - wine_quality_loss: 2.4797 - wine_type_loss: 0.4215 - wine_quality_root_mean_squared_error: 1.5771 - wine_type_accuracy: 0.8095 - val_loss: 2.5661 - val_wine_quality_loss: 2.2125 - val_wine_type_loss: 0.3869 - val_wine_quality_root_mean_squared_error: 1.4760 - val_wine_type_accuracy: 0.8555\n",
      "Epoch 5/180\n",
      "3155/3155 [==============================] - 0s 49us/sample - loss: 2.4136 - wine_quality_loss: 2.0694 - wine_type_loss: 0.3426 - wine_quality_root_mean_squared_error: 1.4391 - wine_type_accuracy: 0.8843 - val_loss: 2.1809 - val_wine_quality_loss: 1.8906 - val_wine_type_loss: 0.3120 - val_wine_quality_root_mean_squared_error: 1.3669 - val_wine_type_accuracy: 0.9125\n",
      "Epoch 6/180\n",
      "3155/3155 [==============================] - 0s 47us/sample - loss: 2.0707 - wine_quality_loss: 1.7917 - wine_type_loss: 0.2758 - wine_quality_root_mean_squared_error: 1.3397 - wine_type_accuracy: 0.9426 - val_loss: 1.9244 - val_wine_quality_loss: 1.6862 - val_wine_type_loss: 0.2527 - val_wine_quality_root_mean_squared_error: 1.2928 - val_wine_type_accuracy: 0.9506\n",
      "Epoch 7/180\n",
      "3155/3155 [==============================] - 0s 47us/sample - loss: 1.8318 - wine_quality_loss: 1.6104 - wine_type_loss: 0.2231 - wine_quality_root_mean_squared_error: 1.2684 - wine_type_accuracy: 0.9677 - val_loss: 1.7190 - val_wine_quality_loss: 1.5255 - val_wine_type_loss: 0.2040 - val_wine_quality_root_mean_squared_error: 1.2308 - val_wine_type_accuracy: 0.9772\n",
      "Epoch 8/180\n",
      "3155/3155 [==============================] - 0s 48us/sample - loss: 1.6493 - wine_quality_loss: 1.4668 - wine_type_loss: 0.1825 - wine_quality_root_mean_squared_error: 1.2111 - wine_type_accuracy: 0.9740 - val_loss: 1.5720 - val_wine_quality_loss: 1.4106 - val_wine_type_loss: 0.1670 - val_wine_quality_root_mean_squared_error: 1.1852 - val_wine_type_accuracy: 0.9848\n",
      "Epoch 9/180\n",
      "3155/3155 [==============================] - 0s 47us/sample - loss: 1.5024 - wine_quality_loss: 1.3496 - wine_type_loss: 0.1509 - wine_quality_root_mean_squared_error: 1.1624 - wine_type_accuracy: 0.9775 - val_loss: 1.4334 - val_wine_quality_loss: 1.2967 - val_wine_type_loss: 0.1406 - val_wine_quality_root_mean_squared_error: 1.1369 - val_wine_type_accuracy: 0.9848\n",
      "Epoch 10/180\n",
      "3155/3155 [==============================] - 0s 46us/sample - loss: 1.3823 - wine_quality_loss: 1.2578 - wine_type_loss: 0.1283 - wine_quality_root_mean_squared_error: 1.1197 - wine_type_accuracy: 0.9803 - val_loss: 1.3233 - val_wine_quality_loss: 1.2060 - val_wine_type_loss: 0.1193 - val_wine_quality_root_mean_squared_error: 1.0972 - val_wine_type_accuracy: 0.9861\n",
      "Epoch 11/180\n",
      "3155/3155 [==============================] - 0s 45us/sample - loss: 1.2745 - wine_quality_loss: 1.1653 - wine_type_loss: 0.1109 - wine_quality_root_mean_squared_error: 1.0788 - wine_type_accuracy: 0.9832 - val_loss: 1.2224 - val_wine_quality_loss: 1.1205 - val_wine_type_loss: 0.1037 - val_wine_quality_root_mean_squared_error: 1.0576 - val_wine_type_accuracy: 0.9873\n",
      "Epoch 12/180\n",
      "3155/3155 [==============================] - 0s 46us/sample - loss: 1.1883 - wine_quality_loss: 1.0902 - wine_type_loss: 0.0969 - wine_quality_root_mean_squared_error: 1.0447 - wine_type_accuracy: 0.9857 - val_loss: 1.1422 - val_wine_quality_loss: 1.0517 - val_wine_type_loss: 0.0908 - val_wine_quality_root_mean_squared_error: 1.0252 - val_wine_type_accuracy: 0.9899\n",
      "Epoch 13/180\n",
      "3155/3155 [==============================] - 0s 46us/sample - loss: 1.1041 - wine_quality_loss: 1.0165 - wine_type_loss: 0.0873 - wine_quality_root_mean_squared_error: 1.0090 - wine_type_accuracy: 0.9864 - val_loss: 1.0530 - val_wine_quality_loss: 0.9723 - val_wine_type_loss: 0.0811 - val_wine_quality_root_mean_squared_error: 0.9857 - val_wine_type_accuracy: 0.9899\n",
      "Epoch 14/180\n",
      "3155/3155 [==============================] - 0s 45us/sample - loss: 1.0323 - wine_quality_loss: 0.9540 - wine_type_loss: 0.0776 - wine_quality_root_mean_squared_error: 0.9770 - wine_type_accuracy: 0.9873 - val_loss: 0.9968 - val_wine_quality_loss: 0.9227 - val_wine_type_loss: 0.0731 - val_wine_quality_root_mean_squared_error: 0.9609 - val_wine_type_accuracy: 0.9899\n",
      "Epoch 15/180\n",
      "3155/3155 [==============================] - 0s 46us/sample - loss: 0.9668 - wine_quality_loss: 0.8947 - wine_type_loss: 0.0707 - wine_quality_root_mean_squared_error: 0.9466 - wine_type_accuracy: 0.9876 - val_loss: 0.9252 - val_wine_quality_loss: 0.8574 - val_wine_type_loss: 0.0670 - val_wine_quality_root_mean_squared_error: 0.9263 - val_wine_type_accuracy: 0.9899\n",
      "Epoch 16/180\n",
      "3155/3155 [==============================] - 0s 47us/sample - loss: 0.9084 - wine_quality_loss: 0.8427 - wine_type_loss: 0.0667 - wine_quality_root_mean_squared_error: 0.9182 - wine_type_accuracy: 0.9889 - val_loss: 0.8723 - val_wine_quality_loss: 0.8094 - val_wine_type_loss: 0.0613 - val_wine_quality_root_mean_squared_error: 0.9004 - val_wine_type_accuracy: 0.9911\n",
      "Epoch 17/180\n",
      "3155/3155 [==============================] - 0s 45us/sample - loss: 0.8551 - wine_quality_loss: 0.7937 - wine_type_loss: 0.0608 - wine_quality_root_mean_squared_error: 0.8912 - wine_type_accuracy: 0.9902 - val_loss: 0.8161 - val_wine_quality_loss: 0.7576 - val_wine_type_loss: 0.0575 - val_wine_quality_root_mean_squared_error: 0.8708 - val_wine_type_accuracy: 0.9911\n",
      "Epoch 18/180\n",
      "3155/3155 [==============================] - 0s 45us/sample - loss: 0.8050 - wine_quality_loss: 0.7468 - wine_type_loss: 0.0569 - wine_quality_root_mean_squared_error: 0.8650 - wine_type_accuracy: 0.9899 - val_loss: 0.7619 - val_wine_quality_loss: 0.7065 - val_wine_type_loss: 0.0540 - val_wine_quality_root_mean_squared_error: 0.8412 - val_wine_type_accuracy: 0.9911\n",
      "Epoch 19/180\n",
      "3155/3155 [==============================] - 0s 50us/sample - loss: 0.7600 - wine_quality_loss: 0.7059 - wine_type_loss: 0.0539 - wine_quality_root_mean_squared_error: 0.8404 - wine_type_accuracy: 0.9902 - val_loss: 0.7269 - val_wine_quality_loss: 0.6744 - val_wine_type_loss: 0.0507 - val_wine_quality_root_mean_squared_error: 0.8221 - val_wine_type_accuracy: 0.9924\n",
      "Epoch 20/180\n",
      "3155/3155 [==============================] - 0s 53us/sample - loss: 0.7174 - wine_quality_loss: 0.6658 - wine_type_loss: 0.0509 - wine_quality_root_mean_squared_error: 0.8164 - wine_type_accuracy: 0.9908 - val_loss: 0.6788 - val_wine_quality_loss: 0.6292 - val_wine_type_loss: 0.0482 - val_wine_quality_root_mean_squared_error: 0.7939 - val_wine_type_accuracy: 0.9924\n",
      "Epoch 21/180\n",
      "3155/3155 [==============================] - 0s 47us/sample - loss: 0.6802 - wine_quality_loss: 0.6311 - wine_type_loss: 0.0486 - wine_quality_root_mean_squared_error: 0.7946 - wine_type_accuracy: 0.9905 - val_loss: 0.6429 - val_wine_quality_loss: 0.5950 - val_wine_type_loss: 0.0462 - val_wine_quality_root_mean_squared_error: 0.7722 - val_wine_type_accuracy: 0.9924\n",
      "Epoch 22/180\n"
     ]
    },
    {
     "name": "stdout",
     "output_type": "stream",
     "text": [
      "3155/3155 [==============================] - 0s 49us/sample - loss: 0.6462 - wine_quality_loss: 0.5986 - wine_type_loss: 0.0466 - wine_quality_root_mean_squared_error: 0.7742 - wine_type_accuracy: 0.9911 - val_loss: 0.6152 - val_wine_quality_loss: 0.5694 - val_wine_type_loss: 0.0443 - val_wine_quality_root_mean_squared_error: 0.7554 - val_wine_type_accuracy: 0.9937\n",
      "Epoch 23/180\n",
      "3155/3155 [==============================] - 0s 44us/sample - loss: 0.6171 - wine_quality_loss: 0.5737 - wine_type_loss: 0.0449 - wine_quality_root_mean_squared_error: 0.7563 - wine_type_accuracy: 0.9914 - val_loss: 0.5883 - val_wine_quality_loss: 0.5434 - val_wine_type_loss: 0.0429 - val_wine_quality_root_mean_squared_error: 0.7383 - val_wine_type_accuracy: 0.9924\n",
      "Epoch 24/180\n",
      "3155/3155 [==============================] - 0s 44us/sample - loss: 0.5884 - wine_quality_loss: 0.5457 - wine_type_loss: 0.0437 - wine_quality_root_mean_squared_error: 0.7381 - wine_type_accuracy: 0.9921 - val_loss: 0.5634 - val_wine_quality_loss: 0.5197 - val_wine_type_loss: 0.0415 - val_wine_quality_root_mean_squared_error: 0.7221 - val_wine_type_accuracy: 0.9937\n",
      "Epoch 25/180\n",
      "3155/3155 [==============================] - 0s 48us/sample - loss: 0.5645 - wine_quality_loss: 0.5222 - wine_type_loss: 0.0422 - wine_quality_root_mean_squared_error: 0.7226 - wine_type_accuracy: 0.9924 - val_loss: 0.5329 - val_wine_quality_loss: 0.4910 - val_wine_type_loss: 0.0402 - val_wine_quality_root_mean_squared_error: 0.7016 - val_wine_type_accuracy: 0.9937\n",
      "Epoch 26/180\n",
      "3155/3155 [==============================] - 0s 46us/sample - loss: 0.5411 - wine_quality_loss: 0.4999 - wine_type_loss: 0.0412 - wine_quality_root_mean_squared_error: 0.7071 - wine_type_accuracy: 0.9924 - val_loss: 0.5119 - val_wine_quality_loss: 0.4708 - val_wine_type_loss: 0.0393 - val_wine_quality_root_mean_squared_error: 0.6872 - val_wine_type_accuracy: 0.9949\n",
      "Epoch 27/180\n",
      "3155/3155 [==============================] - 0s 44us/sample - loss: 0.5197 - wine_quality_loss: 0.4790 - wine_type_loss: 0.0415 - wine_quality_root_mean_squared_error: 0.6925 - wine_type_accuracy: 0.9924 - val_loss: 0.4943 - val_wine_quality_loss: 0.4540 - val_wine_type_loss: 0.0385 - val_wine_quality_root_mean_squared_error: 0.6749 - val_wine_type_accuracy: 0.9949\n",
      "Epoch 28/180\n",
      "3155/3155 [==============================] - 0s 46us/sample - loss: 0.5014 - wine_quality_loss: 0.4617 - wine_type_loss: 0.0390 - wine_quality_root_mean_squared_error: 0.6799 - wine_type_accuracy: 0.9924 - val_loss: 0.4779 - val_wine_quality_loss: 0.4386 - val_wine_type_loss: 0.0376 - val_wine_quality_root_mean_squared_error: 0.6633 - val_wine_type_accuracy: 0.9949\n",
      "Epoch 29/180\n",
      "3155/3155 [==============================] - 0s 44us/sample - loss: 0.4834 - wine_quality_loss: 0.4452 - wine_type_loss: 0.0381 - wine_quality_root_mean_squared_error: 0.6672 - wine_type_accuracy: 0.9924 - val_loss: 0.4622 - val_wine_quality_loss: 0.4237 - val_wine_type_loss: 0.0370 - val_wine_quality_root_mean_squared_error: 0.6518 - val_wine_type_accuracy: 0.9937\n",
      "Epoch 30/180\n",
      "3155/3155 [==============================] - 0s 44us/sample - loss: 0.4669 - wine_quality_loss: 0.4289 - wine_type_loss: 0.0375 - wine_quality_root_mean_squared_error: 0.6553 - wine_type_accuracy: 0.9924 - val_loss: 0.4526 - val_wine_quality_loss: 0.4149 - val_wine_type_loss: 0.0364 - val_wine_quality_root_mean_squared_error: 0.6449 - val_wine_type_accuracy: 0.9949\n",
      "Epoch 31/180\n",
      "3155/3155 [==============================] - 0s 44us/sample - loss: 0.4527 - wine_quality_loss: 0.4166 - wine_type_loss: 0.0367 - wine_quality_root_mean_squared_error: 0.6450 - wine_type_accuracy: 0.9924 - val_loss: 0.4360 - val_wine_quality_loss: 0.3986 - val_wine_type_loss: 0.0359 - val_wine_quality_root_mean_squared_error: 0.6322 - val_wine_type_accuracy: 0.9949\n",
      "Epoch 32/180\n",
      "3155/3155 [==============================] - 0s 47us/sample - loss: 0.4410 - wine_quality_loss: 0.4046 - wine_type_loss: 0.0360 - wine_quality_root_mean_squared_error: 0.6363 - wine_type_accuracy: 0.9924 - val_loss: 0.4244 - val_wine_quality_loss: 0.3875 - val_wine_type_loss: 0.0352 - val_wine_quality_root_mean_squared_error: 0.6236 - val_wine_type_accuracy: 0.9949\n",
      "Epoch 33/180\n",
      "3155/3155 [==============================] - 0s 48us/sample - loss: 0.4293 - wine_quality_loss: 0.3949 - wine_type_loss: 0.0354 - wine_quality_root_mean_squared_error: 0.6276 - wine_type_accuracy: 0.9924 - val_loss: 0.4281 - val_wine_quality_loss: 0.3914 - val_wine_type_loss: 0.0347 - val_wine_quality_root_mean_squared_error: 0.6269 - val_wine_type_accuracy: 0.9949\n",
      "Epoch 34/180\n",
      "3155/3155 [==============================] - 0s 44us/sample - loss: 0.4206 - wine_quality_loss: 0.3851 - wine_type_loss: 0.0349 - wine_quality_root_mean_squared_error: 0.6210 - wine_type_accuracy: 0.9927 - val_loss: 0.4115 - val_wine_quality_loss: 0.3757 - val_wine_type_loss: 0.0343 - val_wine_quality_root_mean_squared_error: 0.6139 - val_wine_type_accuracy: 0.9949\n",
      "Epoch 35/180\n",
      "3155/3155 [==============================] - 0s 45us/sample - loss: 0.4097 - wine_quality_loss: 0.3758 - wine_type_loss: 0.0343 - wine_quality_root_mean_squared_error: 0.6126 - wine_type_accuracy: 0.9930 - val_loss: 0.3977 - val_wine_quality_loss: 0.3620 - val_wine_type_loss: 0.0341 - val_wine_quality_root_mean_squared_error: 0.6027 - val_wine_type_accuracy: 0.9949\n",
      "Epoch 36/180\n",
      "3155/3155 [==============================] - 0s 46us/sample - loss: 0.4014 - wine_quality_loss: 0.3679 - wine_type_loss: 0.0338 - wine_quality_root_mean_squared_error: 0.6062 - wine_type_accuracy: 0.9933 - val_loss: 0.3938 - val_wine_quality_loss: 0.3583 - val_wine_type_loss: 0.0338 - val_wine_quality_root_mean_squared_error: 0.5997 - val_wine_type_accuracy: 0.9949\n",
      "Epoch 37/180\n",
      "3155/3155 [==============================] - 0s 48us/sample - loss: 0.3938 - wine_quality_loss: 0.3612 - wine_type_loss: 0.0333 - wine_quality_root_mean_squared_error: 0.6004 - wine_type_accuracy: 0.9933 - val_loss: 0.3821 - val_wine_quality_loss: 0.3473 - val_wine_type_loss: 0.0334 - val_wine_quality_root_mean_squared_error: 0.5902 - val_wine_type_accuracy: 0.9949\n",
      "Epoch 38/180\n",
      "3155/3155 [==============================] - 0s 48us/sample - loss: 0.3883 - wine_quality_loss: 0.3547 - wine_type_loss: 0.0330 - wine_quality_root_mean_squared_error: 0.5961 - wine_type_accuracy: 0.9933 - val_loss: 0.3812 - val_wine_quality_loss: 0.3463 - val_wine_type_loss: 0.0333 - val_wine_quality_root_mean_squared_error: 0.5895 - val_wine_type_accuracy: 0.9949\n",
      "Epoch 39/180\n",
      "3155/3155 [==============================] - 0s 45us/sample - loss: 0.3823 - wine_quality_loss: 0.3496 - wine_type_loss: 0.0327 - wine_quality_root_mean_squared_error: 0.5914 - wine_type_accuracy: 0.9933 - val_loss: 0.3729 - val_wine_quality_loss: 0.3386 - val_wine_type_loss: 0.0327 - val_wine_quality_root_mean_squared_error: 0.5829 - val_wine_type_accuracy: 0.9949\n",
      "Epoch 40/180\n",
      "3155/3155 [==============================] - 0s 44us/sample - loss: 0.3763 - wine_quality_loss: 0.3434 - wine_type_loss: 0.0323 - wine_quality_root_mean_squared_error: 0.5866 - wine_type_accuracy: 0.9937 - val_loss: 0.3728 - val_wine_quality_loss: 0.3392 - val_wine_type_loss: 0.0323 - val_wine_quality_root_mean_squared_error: 0.5832 - val_wine_type_accuracy: 0.9949\n",
      "Epoch 41/180\n",
      "3155/3155 [==============================] - 0s 47us/sample - loss: 0.3721 - wine_quality_loss: 0.3404 - wine_type_loss: 0.0316 - wine_quality_root_mean_squared_error: 0.5834 - wine_type_accuracy: 0.9937 - val_loss: 0.3778 - val_wine_quality_loss: 0.3444 - val_wine_type_loss: 0.0320 - val_wine_quality_root_mean_squared_error: 0.5877 - val_wine_type_accuracy: 0.9949\n",
      "Epoch 42/180\n",
      "3155/3155 [==============================] - 0s 45us/sample - loss: 0.3682 - wine_quality_loss: 0.3365 - wine_type_loss: 0.0313 - wine_quality_root_mean_squared_error: 0.5804 - wine_type_accuracy: 0.9940 - val_loss: 0.3688 - val_wine_quality_loss: 0.3354 - val_wine_type_loss: 0.0319 - val_wine_quality_root_mean_squared_error: 0.5801 - val_wine_type_accuracy: 0.9949\n",
      "Epoch 43/180\n"
     ]
    },
    {
     "name": "stdout",
     "output_type": "stream",
     "text": [
      "3155/3155 [==============================] - 0s 44us/sample - loss: 0.3629 - wine_quality_loss: 0.3316 - wine_type_loss: 0.0309 - wine_quality_root_mean_squared_error: 0.5761 - wine_type_accuracy: 0.9940 - val_loss: 0.3588 - val_wine_quality_loss: 0.3259 - val_wine_type_loss: 0.0317 - val_wine_quality_root_mean_squared_error: 0.5717 - val_wine_type_accuracy: 0.9949\n",
      "Epoch 44/180\n",
      "3155/3155 [==============================] - 0s 46us/sample - loss: 0.3607 - wine_quality_loss: 0.3297 - wine_type_loss: 0.0309 - wine_quality_root_mean_squared_error: 0.5745 - wine_type_accuracy: 0.9940 - val_loss: 0.3613 - val_wine_quality_loss: 0.3288 - val_wine_type_loss: 0.0313 - val_wine_quality_root_mean_squared_error: 0.5742 - val_wine_type_accuracy: 0.9949\n",
      "Epoch 45/180\n",
      "3155/3155 [==============================] - 0s 49us/sample - loss: 0.3571 - wine_quality_loss: 0.3261 - wine_type_loss: 0.0305 - wine_quality_root_mean_squared_error: 0.5715 - wine_type_accuracy: 0.9940 - val_loss: 0.3539 - val_wine_quality_loss: 0.3217 - val_wine_type_loss: 0.0312 - val_wine_quality_root_mean_squared_error: 0.5677 - val_wine_type_accuracy: 0.9949\n",
      "Epoch 46/180\n",
      "3155/3155 [==============================] - 0s 45us/sample - loss: 0.3549 - wine_quality_loss: 0.3247 - wine_type_loss: 0.0300 - wine_quality_root_mean_squared_error: 0.5699 - wine_type_accuracy: 0.9943 - val_loss: 0.3558 - val_wine_quality_loss: 0.3236 - val_wine_type_loss: 0.0311 - val_wine_quality_root_mean_squared_error: 0.5696 - val_wine_type_accuracy: 0.9949\n",
      "Epoch 47/180\n",
      "3155/3155 [==============================] - 0s 46us/sample - loss: 0.3527 - wine_quality_loss: 0.3231 - wine_type_loss: 0.0298 - wine_quality_root_mean_squared_error: 0.5682 - wine_type_accuracy: 0.9943 - val_loss: 0.3531 - val_wine_quality_loss: 0.3207 - val_wine_type_loss: 0.0312 - val_wine_quality_root_mean_squared_error: 0.5671 - val_wine_type_accuracy: 0.9937\n",
      "Epoch 48/180\n",
      "3155/3155 [==============================] - 0s 47us/sample - loss: 0.3488 - wine_quality_loss: 0.3188 - wine_type_loss: 0.0295 - wine_quality_root_mean_squared_error: 0.5649 - wine_type_accuracy: 0.9943 - val_loss: 0.3507 - val_wine_quality_loss: 0.3187 - val_wine_type_loss: 0.0308 - val_wine_quality_root_mean_squared_error: 0.5653 - val_wine_type_accuracy: 0.9949\n",
      "Epoch 49/180\n",
      "3155/3155 [==============================] - 0s 44us/sample - loss: 0.3477 - wine_quality_loss: 0.3184 - wine_type_loss: 0.0292 - wine_quality_root_mean_squared_error: 0.5643 - wine_type_accuracy: 0.9943 - val_loss: 0.3507 - val_wine_quality_loss: 0.3189 - val_wine_type_loss: 0.0306 - val_wine_quality_root_mean_squared_error: 0.5655 - val_wine_type_accuracy: 0.9949\n",
      "Epoch 50/180\n",
      "3155/3155 [==============================] - 0s 44us/sample - loss: 0.3448 - wine_quality_loss: 0.3152 - wine_type_loss: 0.0291 - wine_quality_root_mean_squared_error: 0.5619 - wine_type_accuracy: 0.9943 - val_loss: 0.3490 - val_wine_quality_loss: 0.3173 - val_wine_type_loss: 0.0305 - val_wine_quality_root_mean_squared_error: 0.5640 - val_wine_type_accuracy: 0.9949\n",
      "Epoch 51/180\n",
      "3155/3155 [==============================] - 0s 44us/sample - loss: 0.3426 - wine_quality_loss: 0.3134 - wine_type_loss: 0.0289 - wine_quality_root_mean_squared_error: 0.5601 - wine_type_accuracy: 0.9943 - val_loss: 0.3516 - val_wine_quality_loss: 0.3200 - val_wine_type_loss: 0.0304 - val_wine_quality_root_mean_squared_error: 0.5664 - val_wine_type_accuracy: 0.9949\n",
      "Epoch 52/180\n",
      "3155/3155 [==============================] - 0s 48us/sample - loss: 0.3413 - wine_quality_loss: 0.3127 - wine_type_loss: 0.0287 - wine_quality_root_mean_squared_error: 0.5591 - wine_type_accuracy: 0.9943 - val_loss: 0.3685 - val_wine_quality_loss: 0.3375 - val_wine_type_loss: 0.0302 - val_wine_quality_root_mean_squared_error: 0.5814 - val_wine_type_accuracy: 0.9949\n",
      "Epoch 53/180\n",
      "3155/3155 [==============================] - 0s 44us/sample - loss: 0.3399 - wine_quality_loss: 0.3112 - wine_type_loss: 0.0289 - wine_quality_root_mean_squared_error: 0.5581 - wine_type_accuracy: 0.9943 - val_loss: 0.3472 - val_wine_quality_loss: 0.3158 - val_wine_type_loss: 0.0303 - val_wine_quality_root_mean_squared_error: 0.5627 - val_wine_type_accuracy: 0.9949\n",
      "Epoch 54/180\n",
      "3155/3155 [==============================] - 0s 51us/sample - loss: 0.3372 - wine_quality_loss: 0.3087 - wine_type_loss: 0.0282 - wine_quality_root_mean_squared_error: 0.5558 - wine_type_accuracy: 0.9943 - val_loss: 0.3427 - val_wine_quality_loss: 0.3116 - val_wine_type_loss: 0.0300 - val_wine_quality_root_mean_squared_error: 0.5588 - val_wine_type_accuracy: 0.9949\n",
      "Epoch 55/180\n",
      "3155/3155 [==============================] - 0s 49us/sample - loss: 0.3363 - wine_quality_loss: 0.3078 - wine_type_loss: 0.0280 - wine_quality_root_mean_squared_error: 0.5552 - wine_type_accuracy: 0.9943 - val_loss: 0.3481 - val_wine_quality_loss: 0.3172 - val_wine_type_loss: 0.0297 - val_wine_quality_root_mean_squared_error: 0.5639 - val_wine_type_accuracy: 0.9949\n",
      "Epoch 56/180\n",
      "3155/3155 [==============================] - 0s 47us/sample - loss: 0.3342 - wine_quality_loss: 0.3060 - wine_type_loss: 0.0278 - wine_quality_root_mean_squared_error: 0.5534 - wine_type_accuracy: 0.9943 - val_loss: 0.3422 - val_wine_quality_loss: 0.3114 - val_wine_type_loss: 0.0297 - val_wine_quality_root_mean_squared_error: 0.5587 - val_wine_type_accuracy: 0.9949\n",
      "Epoch 57/180\n",
      "3155/3155 [==============================] - 0s 46us/sample - loss: 0.3336 - wine_quality_loss: 0.3056 - wine_type_loss: 0.0279 - wine_quality_root_mean_squared_error: 0.5531 - wine_type_accuracy: 0.9943 - val_loss: 0.3491 - val_wine_quality_loss: 0.3184 - val_wine_type_loss: 0.0296 - val_wine_quality_root_mean_squared_error: 0.5649 - val_wine_type_accuracy: 0.9949\n",
      "Epoch 58/180\n",
      "3155/3155 [==============================] - 0s 45us/sample - loss: 0.3320 - wine_quality_loss: 0.3039 - wine_type_loss: 0.0274 - wine_quality_root_mean_squared_error: 0.5518 - wine_type_accuracy: 0.9943 - val_loss: 0.3461 - val_wine_quality_loss: 0.3154 - val_wine_type_loss: 0.0296 - val_wine_quality_root_mean_squared_error: 0.5623 - val_wine_type_accuracy: 0.9949\n",
      "Epoch 59/180\n",
      "3155/3155 [==============================] - 0s 46us/sample - loss: 0.3310 - wine_quality_loss: 0.3037 - wine_type_loss: 0.0273 - wine_quality_root_mean_squared_error: 0.5510 - wine_type_accuracy: 0.9943 - val_loss: 0.3425 - val_wine_quality_loss: 0.3119 - val_wine_type_loss: 0.0294 - val_wine_quality_root_mean_squared_error: 0.5592 - val_wine_type_accuracy: 0.9949\n",
      "Epoch 60/180\n",
      "3155/3155 [==============================] - 0s 54us/sample - loss: 0.3287 - wine_quality_loss: 0.3017 - wine_type_loss: 0.0273 - wine_quality_root_mean_squared_error: 0.5492 - wine_type_accuracy: 0.9946 - val_loss: 0.3471 - val_wine_quality_loss: 0.3162 - val_wine_type_loss: 0.0297 - val_wine_quality_root_mean_squared_error: 0.5631 - val_wine_type_accuracy: 0.9937\n",
      "Epoch 61/180\n",
      "3155/3155 [==============================] - 0s 51us/sample - loss: 0.3277 - wine_quality_loss: 0.3004 - wine_type_loss: 0.0269 - wine_quality_root_mean_squared_error: 0.5484 - wine_type_accuracy: 0.9943 - val_loss: 0.3440 - val_wine_quality_loss: 0.3137 - val_wine_type_loss: 0.0294 - val_wine_quality_root_mean_squared_error: 0.5605 - val_wine_type_accuracy: 0.9937\n",
      "Epoch 62/180\n",
      "3155/3155 [==============================] - 0s 53us/sample - loss: 0.3271 - wine_quality_loss: 0.2995 - wine_type_loss: 0.0267 - wine_quality_root_mean_squared_error: 0.5480 - wine_type_accuracy: 0.9943 - val_loss: 0.3462 - val_wine_quality_loss: 0.3160 - val_wine_type_loss: 0.0293 - val_wine_quality_root_mean_squared_error: 0.5626 - val_wine_type_accuracy: 0.9949\n",
      "Epoch 63/180\n",
      "3155/3155 [==============================] - 0s 51us/sample - loss: 0.3251 - wine_quality_loss: 0.2984 - wine_type_loss: 0.0266 - wine_quality_root_mean_squared_error: 0.5463 - wine_type_accuracy: 0.9946 - val_loss: 0.3481 - val_wine_quality_loss: 0.3175 - val_wine_type_loss: 0.0294 - val_wine_quality_root_mean_squared_error: 0.5643 - val_wine_type_accuracy: 0.9937\n",
      "Epoch 64/180\n"
     ]
    },
    {
     "name": "stdout",
     "output_type": "stream",
     "text": [
      "3155/3155 [==============================] - 0s 46us/sample - loss: 0.3245 - wine_quality_loss: 0.2981 - wine_type_loss: 0.0265 - wine_quality_root_mean_squared_error: 0.5458 - wine_type_accuracy: 0.9946 - val_loss: 0.3509 - val_wine_quality_loss: 0.3203 - val_wine_type_loss: 0.0293 - val_wine_quality_root_mean_squared_error: 0.5668 - val_wine_type_accuracy: 0.9937\n",
      "Epoch 65/180\n",
      "3155/3155 [==============================] - 0s 45us/sample - loss: 0.3224 - wine_quality_loss: 0.2958 - wine_type_loss: 0.0263 - wine_quality_root_mean_squared_error: 0.5441 - wine_type_accuracy: 0.9949 - val_loss: 0.3487 - val_wine_quality_loss: 0.3185 - val_wine_type_loss: 0.0292 - val_wine_quality_root_mean_squared_error: 0.5649 - val_wine_type_accuracy: 0.9937\n",
      "Epoch 66/180\n",
      "3155/3155 [==============================] - 0s 53us/sample - loss: 0.3226 - wine_quality_loss: 0.2968 - wine_type_loss: 0.0262 - wine_quality_root_mean_squared_error: 0.5443 - wine_type_accuracy: 0.9949 - val_loss: 0.3431 - val_wine_quality_loss: 0.3128 - val_wine_type_loss: 0.0290 - val_wine_quality_root_mean_squared_error: 0.5601 - val_wine_type_accuracy: 0.9937\n",
      "Epoch 67/180\n",
      "3155/3155 [==============================] - 0s 54us/sample - loss: 0.3206 - wine_quality_loss: 0.2947 - wine_type_loss: 0.0260 - wine_quality_root_mean_squared_error: 0.5427 - wine_type_accuracy: 0.9949 - val_loss: 0.3466 - val_wine_quality_loss: 0.3168 - val_wine_type_loss: 0.0289 - val_wine_quality_root_mean_squared_error: 0.5633 - val_wine_type_accuracy: 0.9949\n",
      "Epoch 68/180\n",
      "3155/3155 [==============================] - 0s 51us/sample - loss: 0.3217 - wine_quality_loss: 0.2962 - wine_type_loss: 0.0259 - wine_quality_root_mean_squared_error: 0.5438 - wine_type_accuracy: 0.9946 - val_loss: 0.3370 - val_wine_quality_loss: 0.3071 - val_wine_type_loss: 0.0288 - val_wine_quality_root_mean_squared_error: 0.5548 - val_wine_type_accuracy: 0.9949\n",
      "Epoch 69/180\n",
      "3155/3155 [==============================] - 0s 52us/sample - loss: 0.3199 - wine_quality_loss: 0.2951 - wine_type_loss: 0.0257 - wine_quality_root_mean_squared_error: 0.5423 - wine_type_accuracy: 0.9949 - val_loss: 0.3401 - val_wine_quality_loss: 0.3108 - val_wine_type_loss: 0.0286 - val_wine_quality_root_mean_squared_error: 0.5578 - val_wine_type_accuracy: 0.9949\n",
      "Epoch 70/180\n",
      "3155/3155 [==============================] - 0s 48us/sample - loss: 0.3206 - wine_quality_loss: 0.2945 - wine_type_loss: 0.0256 - wine_quality_root_mean_squared_error: 0.5430 - wine_type_accuracy: 0.9949 - val_loss: 0.3377 - val_wine_quality_loss: 0.3080 - val_wine_type_loss: 0.0286 - val_wine_quality_root_mean_squared_error: 0.5556 - val_wine_type_accuracy: 0.9949\n",
      "Epoch 71/180\n",
      "3155/3155 [==============================] - 0s 53us/sample - loss: 0.3176 - wine_quality_loss: 0.2919 - wine_type_loss: 0.0255 - wine_quality_root_mean_squared_error: 0.5404 - wine_type_accuracy: 0.9949 - val_loss: 0.3434 - val_wine_quality_loss: 0.3136 - val_wine_type_loss: 0.0285 - val_wine_quality_root_mean_squared_error: 0.5608 - val_wine_type_accuracy: 0.9949\n",
      "Epoch 72/180\n",
      "3155/3155 [==============================] - 0s 53us/sample - loss: 0.3173 - wine_quality_loss: 0.2929 - wine_type_loss: 0.0253 - wine_quality_root_mean_squared_error: 0.5403 - wine_type_accuracy: 0.9949 - val_loss: 0.3423 - val_wine_quality_loss: 0.3126 - val_wine_type_loss: 0.0287 - val_wine_quality_root_mean_squared_error: 0.5596 - val_wine_type_accuracy: 0.9937\n",
      "Epoch 73/180\n",
      "3155/3155 [==============================] - 0s 53us/sample - loss: 0.3169 - wine_quality_loss: 0.2918 - wine_type_loss: 0.0252 - wine_quality_root_mean_squared_error: 0.5400 - wine_type_accuracy: 0.9949 - val_loss: 0.3440 - val_wine_quality_loss: 0.3146 - val_wine_type_loss: 0.0285 - val_wine_quality_root_mean_squared_error: 0.5614 - val_wine_type_accuracy: 0.9949\n",
      "Epoch 74/180\n",
      "3155/3155 [==============================] - 0s 50us/sample - loss: 0.3168 - wine_quality_loss: 0.2914 - wine_type_loss: 0.0252 - wine_quality_root_mean_squared_error: 0.5400 - wine_type_accuracy: 0.9949 - val_loss: 0.3397 - val_wine_quality_loss: 0.3101 - val_wine_type_loss: 0.0284 - val_wine_quality_root_mean_squared_error: 0.5576 - val_wine_type_accuracy: 0.9949\n",
      "Epoch 75/180\n",
      "3155/3155 [==============================] - 0s 46us/sample - loss: 0.3150 - wine_quality_loss: 0.2902 - wine_type_loss: 0.0250 - wine_quality_root_mean_squared_error: 0.5385 - wine_type_accuracy: 0.9949 - val_loss: 0.3374 - val_wine_quality_loss: 0.3078 - val_wine_type_loss: 0.0285 - val_wine_quality_root_mean_squared_error: 0.5555 - val_wine_type_accuracy: 0.9937\n",
      "Epoch 76/180\n",
      "3155/3155 [==============================] - 0s 46us/sample - loss: 0.3139 - wine_quality_loss: 0.2890 - wine_type_loss: 0.0249 - wine_quality_root_mean_squared_error: 0.5376 - wine_type_accuracy: 0.9949 - val_loss: 0.3386 - val_wine_quality_loss: 0.3091 - val_wine_type_loss: 0.0283 - val_wine_quality_root_mean_squared_error: 0.5567 - val_wine_type_accuracy: 0.9937\n",
      "Epoch 77/180\n",
      "3155/3155 [==============================] - 0s 51us/sample - loss: 0.3128 - wine_quality_loss: 0.2879 - wine_type_loss: 0.0248 - wine_quality_root_mean_squared_error: 0.5367 - wine_type_accuracy: 0.9949 - val_loss: 0.3427 - val_wine_quality_loss: 0.3137 - val_wine_type_loss: 0.0282 - val_wine_quality_root_mean_squared_error: 0.5604 - val_wine_type_accuracy: 0.9949\n",
      "Epoch 78/180\n",
      "3155/3155 [==============================] - 0s 51us/sample - loss: 0.3133 - wine_quality_loss: 0.2884 - wine_type_loss: 0.0246 - wine_quality_root_mean_squared_error: 0.5372 - wine_type_accuracy: 0.9949 - val_loss: 0.3430 - val_wine_quality_loss: 0.3137 - val_wine_type_loss: 0.0282 - val_wine_quality_root_mean_squared_error: 0.5607 - val_wine_type_accuracy: 0.9937\n",
      "Epoch 79/180\n",
      "3155/3155 [==============================] - 0s 49us/sample - loss: 0.3114 - wine_quality_loss: 0.2874 - wine_type_loss: 0.0245 - wine_quality_root_mean_squared_error: 0.5356 - wine_type_accuracy: 0.9949 - val_loss: 0.3398 - val_wine_quality_loss: 0.3107 - val_wine_type_loss: 0.0281 - val_wine_quality_root_mean_squared_error: 0.5580 - val_wine_type_accuracy: 0.9937\n",
      "Epoch 80/180\n",
      "3155/3155 [==============================] - 0s 51us/sample - loss: 0.3113 - wine_quality_loss: 0.2872 - wine_type_loss: 0.0244 - wine_quality_root_mean_squared_error: 0.5356 - wine_type_accuracy: 0.9949 - val_loss: 0.3384 - val_wine_quality_loss: 0.3095 - val_wine_type_loss: 0.0280 - val_wine_quality_root_mean_squared_error: 0.5569 - val_wine_type_accuracy: 0.9949\n",
      "Epoch 81/180\n",
      "3155/3155 [==============================] - 0s 46us/sample - loss: 0.3104 - wine_quality_loss: 0.2861 - wine_type_loss: 0.0243 - wine_quality_root_mean_squared_error: 0.5348 - wine_type_accuracy: 0.9952 - val_loss: 0.3379 - val_wine_quality_loss: 0.3089 - val_wine_type_loss: 0.0280 - val_wine_quality_root_mean_squared_error: 0.5564 - val_wine_type_accuracy: 0.9949\n",
      "Epoch 82/180\n",
      "3155/3155 [==============================] - 0s 51us/sample - loss: 0.3098 - wine_quality_loss: 0.2858 - wine_type_loss: 0.0242 - wine_quality_root_mean_squared_error: 0.5343 - wine_type_accuracy: 0.9949 - val_loss: 0.3383 - val_wine_quality_loss: 0.3093 - val_wine_type_loss: 0.0278 - val_wine_quality_root_mean_squared_error: 0.5570 - val_wine_type_accuracy: 0.9949\n",
      "Epoch 83/180\n",
      "3155/3155 [==============================] - 0s 52us/sample - loss: 0.3095 - wine_quality_loss: 0.2855 - wine_type_loss: 0.0254 - wine_quality_root_mean_squared_error: 0.5342 - wine_type_accuracy: 0.9949 - val_loss: 0.3356 - val_wine_quality_loss: 0.3069 - val_wine_type_loss: 0.0278 - val_wine_quality_root_mean_squared_error: 0.5545 - val_wine_type_accuracy: 0.9949\n",
      "Epoch 84/180\n",
      "3155/3155 [==============================] - 0s 50us/sample - loss: 0.3090 - wine_quality_loss: 0.2849 - wine_type_loss: 0.0239 - wine_quality_root_mean_squared_error: 0.5338 - wine_type_accuracy: 0.9952 - val_loss: 0.3420 - val_wine_quality_loss: 0.3130 - val_wine_type_loss: 0.0278 - val_wine_quality_root_mean_squared_error: 0.5602 - val_wine_type_accuracy: 0.9937\n",
      "Epoch 85/180\n"
     ]
    },
    {
     "name": "stdout",
     "output_type": "stream",
     "text": [
      "3155/3155 [==============================] - 0s 54us/sample - loss: 0.3075 - wine_quality_loss: 0.2840 - wine_type_loss: 0.0238 - wine_quality_root_mean_squared_error: 0.5325 - wine_type_accuracy: 0.9949 - val_loss: 0.3329 - val_wine_quality_loss: 0.3042 - val_wine_type_loss: 0.0278 - val_wine_quality_root_mean_squared_error: 0.5521 - val_wine_type_accuracy: 0.9937\n",
      "Epoch 86/180\n",
      "3155/3155 [==============================] - 0s 51us/sample - loss: 0.3067 - wine_quality_loss: 0.2831 - wine_type_loss: 0.0237 - wine_quality_root_mean_squared_error: 0.5319 - wine_type_accuracy: 0.9952 - val_loss: 0.3331 - val_wine_quality_loss: 0.3045 - val_wine_type_loss: 0.0276 - val_wine_quality_root_mean_squared_error: 0.5524 - val_wine_type_accuracy: 0.9949\n",
      "Epoch 87/180\n",
      "3155/3155 [==============================] - 0s 46us/sample - loss: 0.3061 - wine_quality_loss: 0.2822 - wine_type_loss: 0.0236 - wine_quality_root_mean_squared_error: 0.5314 - wine_type_accuracy: 0.9956 - val_loss: 0.3376 - val_wine_quality_loss: 0.3088 - val_wine_type_loss: 0.0276 - val_wine_quality_root_mean_squared_error: 0.5564 - val_wine_type_accuracy: 0.9937\n",
      "Epoch 88/180\n",
      "3155/3155 [==============================] - 0s 47us/sample - loss: 0.3048 - wine_quality_loss: 0.2810 - wine_type_loss: 0.0235 - wine_quality_root_mean_squared_error: 0.5304 - wine_type_accuracy: 0.9956 - val_loss: 0.3370 - val_wine_quality_loss: 0.3084 - val_wine_type_loss: 0.0276 - val_wine_quality_root_mean_squared_error: 0.5559 - val_wine_type_accuracy: 0.9949\n",
      "Epoch 89/180\n",
      "3155/3155 [==============================] - 0s 54us/sample - loss: 0.3048 - wine_quality_loss: 0.2810 - wine_type_loss: 0.0234 - wine_quality_root_mean_squared_error: 0.5304 - wine_type_accuracy: 0.9956 - val_loss: 0.3420 - val_wine_quality_loss: 0.3138 - val_wine_type_loss: 0.0275 - val_wine_quality_root_mean_squared_error: 0.5605 - val_wine_type_accuracy: 0.9949\n",
      "Epoch 90/180\n",
      "3155/3155 [==============================] - 0s 48us/sample - loss: 0.3049 - wine_quality_loss: 0.2824 - wine_type_loss: 0.0233 - wine_quality_root_mean_squared_error: 0.5305 - wine_type_accuracy: 0.9959 - val_loss: 0.3382 - val_wine_quality_loss: 0.3095 - val_wine_type_loss: 0.0276 - val_wine_quality_root_mean_squared_error: 0.5570 - val_wine_type_accuracy: 0.9937\n",
      "Epoch 91/180\n",
      "3155/3155 [==============================] - 0s 46us/sample - loss: 0.3038 - wine_quality_loss: 0.2808 - wine_type_loss: 0.0232 - wine_quality_root_mean_squared_error: 0.5296 - wine_type_accuracy: 0.9956 - val_loss: 0.3361 - val_wine_quality_loss: 0.3079 - val_wine_type_loss: 0.0275 - val_wine_quality_root_mean_squared_error: 0.5552 - val_wine_type_accuracy: 0.9949\n",
      "Epoch 92/180\n",
      "3155/3155 [==============================] - 0s 44us/sample - loss: 0.3036 - wine_quality_loss: 0.2806 - wine_type_loss: 0.0231 - wine_quality_root_mean_squared_error: 0.5295 - wine_type_accuracy: 0.9959 - val_loss: 0.3398 - val_wine_quality_loss: 0.3112 - val_wine_type_loss: 0.0274 - val_wine_quality_root_mean_squared_error: 0.5585 - val_wine_type_accuracy: 0.9949\n",
      "Epoch 93/180\n",
      "3155/3155 [==============================] - 0s 44us/sample - loss: 0.3030 - wine_quality_loss: 0.2800 - wine_type_loss: 0.0230 - wine_quality_root_mean_squared_error: 0.5290 - wine_type_accuracy: 0.9956 - val_loss: 0.3453 - val_wine_quality_loss: 0.3171 - val_wine_type_loss: 0.0275 - val_wine_quality_root_mean_squared_error: 0.5635 - val_wine_type_accuracy: 0.9937\n",
      "Epoch 94/180\n",
      "3155/3155 [==============================] - 0s 46us/sample - loss: 0.3017 - wine_quality_loss: 0.2786 - wine_type_loss: 0.0229 - wine_quality_root_mean_squared_error: 0.5280 - wine_type_accuracy: 0.9956 - val_loss: 0.3464 - val_wine_quality_loss: 0.3178 - val_wine_type_loss: 0.0274 - val_wine_quality_root_mean_squared_error: 0.5645 - val_wine_type_accuracy: 0.9949\n",
      "Epoch 95/180\n",
      "3155/3155 [==============================] - 0s 47us/sample - loss: 0.3016 - wine_quality_loss: 0.2786 - wine_type_loss: 0.0228 - wine_quality_root_mean_squared_error: 0.5280 - wine_type_accuracy: 0.9959 - val_loss: 0.3406 - val_wine_quality_loss: 0.3121 - val_wine_type_loss: 0.0272 - val_wine_quality_root_mean_squared_error: 0.5595 - val_wine_type_accuracy: 0.9949\n",
      "Epoch 96/180\n",
      "3155/3155 [==============================] - 0s 45us/sample - loss: 0.3009 - wine_quality_loss: 0.2786 - wine_type_loss: 0.0227 - wine_quality_root_mean_squared_error: 0.5273 - wine_type_accuracy: 0.9959 - val_loss: 0.3356 - val_wine_quality_loss: 0.3075 - val_wine_type_loss: 0.0271 - val_wine_quality_root_mean_squared_error: 0.5552 - val_wine_type_accuracy: 0.9949\n",
      "Epoch 97/180\n",
      "3155/3155 [==============================] - 0s 44us/sample - loss: 0.2991 - wine_quality_loss: 0.2768 - wine_type_loss: 0.0227 - wine_quality_root_mean_squared_error: 0.5257 - wine_type_accuracy: 0.9959 - val_loss: 0.3404 - val_wine_quality_loss: 0.3124 - val_wine_type_loss: 0.0271 - val_wine_quality_root_mean_squared_error: 0.5594 - val_wine_type_accuracy: 0.9949\n",
      "Epoch 98/180\n",
      "3155/3155 [==============================] - 0s 44us/sample - loss: 0.3004 - wine_quality_loss: 0.2779 - wine_type_loss: 0.0227 - wine_quality_root_mean_squared_error: 0.5271 - wine_type_accuracy: 0.9959 - val_loss: 0.3359 - val_wine_quality_loss: 0.3080 - val_wine_type_loss: 0.0271 - val_wine_quality_root_mean_squared_error: 0.5554 - val_wine_type_accuracy: 0.9949\n",
      "Epoch 99/180\n",
      "3155/3155 [==============================] - 0s 46us/sample - loss: 0.2984 - wine_quality_loss: 0.2757 - wine_type_loss: 0.0224 - wine_quality_root_mean_squared_error: 0.5252 - wine_type_accuracy: 0.9959 - val_loss: 0.3437 - val_wine_quality_loss: 0.3154 - val_wine_type_loss: 0.0272 - val_wine_quality_root_mean_squared_error: 0.5622 - val_wine_type_accuracy: 0.9937\n",
      "Epoch 100/180\n",
      "3155/3155 [==============================] - 0s 48us/sample - loss: 0.2998 - wine_quality_loss: 0.2771 - wine_type_loss: 0.0223 - wine_quality_root_mean_squared_error: 0.5267 - wine_type_accuracy: 0.9959 - val_loss: 0.3348 - val_wine_quality_loss: 0.3067 - val_wine_type_loss: 0.0271 - val_wine_quality_root_mean_squared_error: 0.5544 - val_wine_type_accuracy: 0.9949\n",
      "Epoch 101/180\n",
      "3155/3155 [==============================] - 0s 46us/sample - loss: 0.2988 - wine_quality_loss: 0.2766 - wine_type_loss: 0.0222 - wine_quality_root_mean_squared_error: 0.5258 - wine_type_accuracy: 0.9956 - val_loss: 0.3377 - val_wine_quality_loss: 0.3096 - val_wine_type_loss: 0.0272 - val_wine_quality_root_mean_squared_error: 0.5569 - val_wine_type_accuracy: 0.9937\n",
      "Epoch 102/180\n",
      "3155/3155 [==============================] - 0s 48us/sample - loss: 0.2964 - wine_quality_loss: 0.2748 - wine_type_loss: 0.0222 - wine_quality_root_mean_squared_error: 0.5236 - wine_type_accuracy: 0.9959 - val_loss: 0.3362 - val_wine_quality_loss: 0.3083 - val_wine_type_loss: 0.0271 - val_wine_quality_root_mean_squared_error: 0.5556 - val_wine_type_accuracy: 0.9937\n",
      "Epoch 103/180\n",
      "3155/3155 [==============================] - 0s 46us/sample - loss: 0.2971 - wine_quality_loss: 0.2751 - wine_type_loss: 0.0221 - wine_quality_root_mean_squared_error: 0.5244 - wine_type_accuracy: 0.9959 - val_loss: 0.3353 - val_wine_quality_loss: 0.3077 - val_wine_type_loss: 0.0270 - val_wine_quality_root_mean_squared_error: 0.5550 - val_wine_type_accuracy: 0.9949\n",
      "Epoch 104/180\n",
      "3155/3155 [==============================] - 0s 44us/sample - loss: 0.2958 - wine_quality_loss: 0.2740 - wine_type_loss: 0.0220 - wine_quality_root_mean_squared_error: 0.5232 - wine_type_accuracy: 0.9959 - val_loss: 0.3419 - val_wine_quality_loss: 0.3140 - val_wine_type_loss: 0.0270 - val_wine_quality_root_mean_squared_error: 0.5608 - val_wine_type_accuracy: 0.9937\n",
      "Epoch 105/180\n",
      "3155/3155 [==============================] - 0s 49us/sample - loss: 0.2953 - wine_quality_loss: 0.2734 - wine_type_loss: 0.0233 - wine_quality_root_mean_squared_error: 0.5228 - wine_type_accuracy: 0.9959 - val_loss: 0.3394 - val_wine_quality_loss: 0.3118 - val_wine_type_loss: 0.0269 - val_wine_quality_root_mean_squared_error: 0.5587 - val_wine_type_accuracy: 0.9949\n",
      "Epoch 106/180\n"
     ]
    },
    {
     "name": "stdout",
     "output_type": "stream",
     "text": [
      "3155/3155 [==============================] - 0s 47us/sample - loss: 0.2954 - wine_quality_loss: 0.2733 - wine_type_loss: 0.0218 - wine_quality_root_mean_squared_error: 0.5230 - wine_type_accuracy: 0.9959 - val_loss: 0.3347 - val_wine_quality_loss: 0.3070 - val_wine_type_loss: 0.0269 - val_wine_quality_root_mean_squared_error: 0.5545 - val_wine_type_accuracy: 0.9949\n",
      "Epoch 107/180\n",
      "3155/3155 [==============================] - 0s 48us/sample - loss: 0.2951 - wine_quality_loss: 0.2730 - wine_type_loss: 0.0217 - wine_quality_root_mean_squared_error: 0.5227 - wine_type_accuracy: 0.9959 - val_loss: 0.3402 - val_wine_quality_loss: 0.3126 - val_wine_type_loss: 0.0269 - val_wine_quality_root_mean_squared_error: 0.5594 - val_wine_type_accuracy: 0.9937\n",
      "Epoch 108/180\n",
      "3155/3155 [==============================] - 0s 48us/sample - loss: 0.2946 - wine_quality_loss: 0.2730 - wine_type_loss: 0.0217 - wine_quality_root_mean_squared_error: 0.5223 - wine_type_accuracy: 0.9959 - val_loss: 0.3355 - val_wine_quality_loss: 0.3077 - val_wine_type_loss: 0.0269 - val_wine_quality_root_mean_squared_error: 0.5552 - val_wine_type_accuracy: 0.9949\n",
      "Epoch 109/180\n",
      "3155/3155 [==============================] - 0s 51us/sample - loss: 0.2938 - wine_quality_loss: 0.2724 - wine_type_loss: 0.0216 - wine_quality_root_mean_squared_error: 0.5217 - wine_type_accuracy: 0.9959 - val_loss: 0.3407 - val_wine_quality_loss: 0.3131 - val_wine_type_loss: 0.0268 - val_wine_quality_root_mean_squared_error: 0.5599 - val_wine_type_accuracy: 0.9949\n",
      "Epoch 110/180\n",
      "3155/3155 [==============================] - 0s 50us/sample - loss: 0.2939 - wine_quality_loss: 0.2731 - wine_type_loss: 0.0219 - wine_quality_root_mean_squared_error: 0.5219 - wine_type_accuracy: 0.9959 - val_loss: 0.3323 - val_wine_quality_loss: 0.3045 - val_wine_type_loss: 0.0270 - val_wine_quality_root_mean_squared_error: 0.5522 - val_wine_type_accuracy: 0.9937\n",
      "Epoch 111/180\n",
      "3155/3155 [==============================] - 0s 48us/sample - loss: 0.2925 - wine_quality_loss: 0.2709 - wine_type_loss: 0.0214 - wine_quality_root_mean_squared_error: 0.5206 - wine_type_accuracy: 0.9959 - val_loss: 0.3379 - val_wine_quality_loss: 0.3098 - val_wine_type_loss: 0.0269 - val_wine_quality_root_mean_squared_error: 0.5574 - val_wine_type_accuracy: 0.9937\n",
      "Epoch 112/180\n",
      "3155/3155 [==============================] - 0s 47us/sample - loss: 0.2916 - wine_quality_loss: 0.2700 - wine_type_loss: 0.0213 - wine_quality_root_mean_squared_error: 0.5198 - wine_type_accuracy: 0.9959 - val_loss: 0.3376 - val_wine_quality_loss: 0.3096 - val_wine_type_loss: 0.0269 - val_wine_quality_root_mean_squared_error: 0.5570 - val_wine_type_accuracy: 0.9937\n",
      "Epoch 113/180\n",
      "3155/3155 [==============================] - 0s 50us/sample - loss: 0.2919 - wine_quality_loss: 0.2704 - wine_type_loss: 0.0212 - wine_quality_root_mean_squared_error: 0.5203 - wine_type_accuracy: 0.9959 - val_loss: 0.3345 - val_wine_quality_loss: 0.3067 - val_wine_type_loss: 0.0269 - val_wine_quality_root_mean_squared_error: 0.5543 - val_wine_type_accuracy: 0.9937\n",
      "Epoch 114/180\n",
      "3155/3155 [==============================] - 0s 54us/sample - loss: 0.2911 - wine_quality_loss: 0.2696 - wine_type_loss: 0.0212 - wine_quality_root_mean_squared_error: 0.5194 - wine_type_accuracy: 0.9959 - val_loss: 0.3351 - val_wine_quality_loss: 0.3075 - val_wine_type_loss: 0.0268 - val_wine_quality_root_mean_squared_error: 0.5549 - val_wine_type_accuracy: 0.9937\n",
      "Epoch 115/180\n",
      "3155/3155 [==============================] - 0s 53us/sample - loss: 0.2916 - wine_quality_loss: 0.2703 - wine_type_loss: 0.0210 - wine_quality_root_mean_squared_error: 0.5201 - wine_type_accuracy: 0.9959 - val_loss: 0.3360 - val_wine_quality_loss: 0.3085 - val_wine_type_loss: 0.0268 - val_wine_quality_root_mean_squared_error: 0.5558 - val_wine_type_accuracy: 0.9937\n",
      "Epoch 116/180\n",
      "3155/3155 [==============================] - 0s 54us/sample - loss: 0.2900 - wine_quality_loss: 0.2688 - wine_type_loss: 0.0209 - wine_quality_root_mean_squared_error: 0.5186 - wine_type_accuracy: 0.9959 - val_loss: 0.3411 - val_wine_quality_loss: 0.3133 - val_wine_type_loss: 0.0268 - val_wine_quality_root_mean_squared_error: 0.5603 - val_wine_type_accuracy: 0.9937\n",
      "Epoch 117/180\n",
      "3155/3155 [==============================] - 0s 47us/sample - loss: 0.2903 - wine_quality_loss: 0.2694 - wine_type_loss: 0.0209 - wine_quality_root_mean_squared_error: 0.5190 - wine_type_accuracy: 0.9959 - val_loss: 0.3341 - val_wine_quality_loss: 0.3066 - val_wine_type_loss: 0.0267 - val_wine_quality_root_mean_squared_error: 0.5542 - val_wine_type_accuracy: 0.9937\n",
      "Epoch 118/180\n",
      "3155/3155 [==============================] - 0s 51us/sample - loss: 0.2899 - wine_quality_loss: 0.2690 - wine_type_loss: 0.0208 - wine_quality_root_mean_squared_error: 0.5187 - wine_type_accuracy: 0.9962 - val_loss: 0.3371 - val_wine_quality_loss: 0.3096 - val_wine_type_loss: 0.0266 - val_wine_quality_root_mean_squared_error: 0.5569 - val_wine_type_accuracy: 0.9949\n",
      "Epoch 119/180\n",
      "3155/3155 [==============================] - 0s 51us/sample - loss: 0.2889 - wine_quality_loss: 0.2683 - wine_type_loss: 0.0207 - wine_quality_root_mean_squared_error: 0.5179 - wine_type_accuracy: 0.9959 - val_loss: 0.3353 - val_wine_quality_loss: 0.3079 - val_wine_type_loss: 0.0266 - val_wine_quality_root_mean_squared_error: 0.5553 - val_wine_type_accuracy: 0.9937\n",
      "Epoch 120/180\n",
      "3155/3155 [==============================] - 0s 49us/sample - loss: 0.2881 - wine_quality_loss: 0.2677 - wine_type_loss: 0.0207 - wine_quality_root_mean_squared_error: 0.5170 - wine_type_accuracy: 0.9962 - val_loss: 0.3371 - val_wine_quality_loss: 0.3098 - val_wine_type_loss: 0.0264 - val_wine_quality_root_mean_squared_error: 0.5571 - val_wine_type_accuracy: 0.9949\n",
      "Epoch 121/180\n",
      "3155/3155 [==============================] - 0s 52us/sample - loss: 0.2876 - wine_quality_loss: 0.2669 - wine_type_loss: 0.0206 - wine_quality_root_mean_squared_error: 0.5167 - wine_type_accuracy: 0.9962 - val_loss: 0.3322 - val_wine_quality_loss: 0.3050 - val_wine_type_loss: 0.0264 - val_wine_quality_root_mean_squared_error: 0.5527 - val_wine_type_accuracy: 0.9949\n",
      "Epoch 122/180\n",
      "3155/3155 [==============================] - 0s 51us/sample - loss: 0.2878 - wine_quality_loss: 0.2677 - wine_type_loss: 0.0205 - wine_quality_root_mean_squared_error: 0.5169 - wine_type_accuracy: 0.9962 - val_loss: 0.3339 - val_wine_quality_loss: 0.3064 - val_wine_type_loss: 0.0265 - val_wine_quality_root_mean_squared_error: 0.5542 - val_wine_type_accuracy: 0.9949\n",
      "Epoch 123/180\n",
      "3155/3155 [==============================] - 0s 48us/sample - loss: 0.2872 - wine_quality_loss: 0.2664 - wine_type_loss: 0.0204 - wine_quality_root_mean_squared_error: 0.5164 - wine_type_accuracy: 0.9962 - val_loss: 0.3330 - val_wine_quality_loss: 0.3058 - val_wine_type_loss: 0.0263 - val_wine_quality_root_mean_squared_error: 0.5535 - val_wine_type_accuracy: 0.9949\n",
      "Epoch 124/180\n",
      "3155/3155 [==============================] - 0s 51us/sample - loss: 0.2881 - wine_quality_loss: 0.2681 - wine_type_loss: 0.0204 - wine_quality_root_mean_squared_error: 0.5174 - wine_type_accuracy: 0.9962 - val_loss: 0.3372 - val_wine_quality_loss: 0.3099 - val_wine_type_loss: 0.0264 - val_wine_quality_root_mean_squared_error: 0.5572 - val_wine_type_accuracy: 0.9949\n",
      "Epoch 125/180\n",
      "3155/3155 [==============================] - 0s 51us/sample - loss: 0.2863 - wine_quality_loss: 0.2663 - wine_type_loss: 0.0203 - wine_quality_root_mean_squared_error: 0.5157 - wine_type_accuracy: 0.9962 - val_loss: 0.3339 - val_wine_quality_loss: 0.3066 - val_wine_type_loss: 0.0264 - val_wine_quality_root_mean_squared_error: 0.5542 - val_wine_type_accuracy: 0.9949\n",
      "Epoch 126/180\n",
      "3155/3155 [==============================] - 0s 52us/sample - loss: 0.2860 - wine_quality_loss: 0.2660 - wine_type_loss: 0.0202 - wine_quality_root_mean_squared_error: 0.5155 - wine_type_accuracy: 0.9965 - val_loss: 0.3415 - val_wine_quality_loss: 0.3142 - val_wine_type_loss: 0.0264 - val_wine_quality_root_mean_squared_error: 0.5610 - val_wine_type_accuracy: 0.9949\n",
      "Epoch 127/180\n"
     ]
    },
    {
     "name": "stdout",
     "output_type": "stream",
     "text": [
      "3155/3155 [==============================] - 0s 50us/sample - loss: 0.2854 - wine_quality_loss: 0.2655 - wine_type_loss: 0.0201 - wine_quality_root_mean_squared_error: 0.5149 - wine_type_accuracy: 0.9965 - val_loss: 0.3351 - val_wine_quality_loss: 0.3076 - val_wine_type_loss: 0.0264 - val_wine_quality_root_mean_squared_error: 0.5553 - val_wine_type_accuracy: 0.9937\n",
      "Epoch 128/180\n",
      "3155/3155 [==============================] - 0s 48us/sample - loss: 0.2852 - wine_quality_loss: 0.2653 - wine_type_loss: 0.0215 - wine_quality_root_mean_squared_error: 0.5148 - wine_type_accuracy: 0.9965 - val_loss: 0.3325 - val_wine_quality_loss: 0.3055 - val_wine_type_loss: 0.0264 - val_wine_quality_root_mean_squared_error: 0.5530 - val_wine_type_accuracy: 0.9949\n",
      "Epoch 129/180\n",
      "3155/3155 [==============================] - 0s 46us/sample - loss: 0.2853 - wine_quality_loss: 0.2659 - wine_type_loss: 0.0200 - wine_quality_root_mean_squared_error: 0.5150 - wine_type_accuracy: 0.9965 - val_loss: 0.3349 - val_wine_quality_loss: 0.3077 - val_wine_type_loss: 0.0264 - val_wine_quality_root_mean_squared_error: 0.5551 - val_wine_type_accuracy: 0.9949\n",
      "Epoch 130/180\n",
      "3155/3155 [==============================] - 0s 48us/sample - loss: 0.2836 - wine_quality_loss: 0.2632 - wine_type_loss: 0.0200 - wine_quality_root_mean_squared_error: 0.5133 - wine_type_accuracy: 0.9965 - val_loss: 0.3432 - val_wine_quality_loss: 0.3158 - val_wine_type_loss: 0.0265 - val_wine_quality_root_mean_squared_error: 0.5625 - val_wine_type_accuracy: 0.9937\n",
      "Epoch 131/180\n",
      "3155/3155 [==============================] - 0s 49us/sample - loss: 0.2839 - wine_quality_loss: 0.2645 - wine_type_loss: 0.0205 - wine_quality_root_mean_squared_error: 0.5138 - wine_type_accuracy: 0.9965 - val_loss: 0.3329 - val_wine_quality_loss: 0.3058 - val_wine_type_loss: 0.0264 - val_wine_quality_root_mean_squared_error: 0.5533 - val_wine_type_accuracy: 0.9937\n",
      "Epoch 132/180\n",
      "3155/3155 [==============================] - 0s 46us/sample - loss: 0.2818 - wine_quality_loss: 0.2632 - wine_type_loss: 0.0198 - wine_quality_root_mean_squared_error: 0.5118 - wine_type_accuracy: 0.9965 - val_loss: 0.3332 - val_wine_quality_loss: 0.3061 - val_wine_type_loss: 0.0263 - val_wine_quality_root_mean_squared_error: 0.5537 - val_wine_type_accuracy: 0.9949\n",
      "Epoch 133/180\n",
      "3155/3155 [==============================] - 0s 45us/sample - loss: 0.2836 - wine_quality_loss: 0.2639 - wine_type_loss: 0.0198 - wine_quality_root_mean_squared_error: 0.5136 - wine_type_accuracy: 0.9965 - val_loss: 0.3384 - val_wine_quality_loss: 0.3113 - val_wine_type_loss: 0.0262 - val_wine_quality_root_mean_squared_error: 0.5584 - val_wine_type_accuracy: 0.9949\n",
      "Epoch 134/180\n",
      "3155/3155 [==============================] - 0s 46us/sample - loss: 0.2831 - wine_quality_loss: 0.2640 - wine_type_loss: 0.0197 - wine_quality_root_mean_squared_error: 0.5132 - wine_type_accuracy: 0.9965 - val_loss: 0.3420 - val_wine_quality_loss: 0.3147 - val_wine_type_loss: 0.0262 - val_wine_quality_root_mean_squared_error: 0.5617 - val_wine_type_accuracy: 0.9949\n",
      "Epoch 135/180\n",
      "3155/3155 [==============================] - 0s 57us/sample - loss: 0.2812 - wine_quality_loss: 0.2612 - wine_type_loss: 0.0196 - wine_quality_root_mean_squared_error: 0.5114 - wine_type_accuracy: 0.9965 - val_loss: 0.3319 - val_wine_quality_loss: 0.3049 - val_wine_type_loss: 0.0262 - val_wine_quality_root_mean_squared_error: 0.5526 - val_wine_type_accuracy: 0.9949\n",
      "Epoch 136/180\n",
      "3155/3155 [==============================] - 0s 53us/sample - loss: 0.2815 - wine_quality_loss: 0.2617 - wine_type_loss: 0.0195 - wine_quality_root_mean_squared_error: 0.5118 - wine_type_accuracy: 0.9965 - val_loss: 0.3351 - val_wine_quality_loss: 0.3083 - val_wine_type_loss: 0.0262 - val_wine_quality_root_mean_squared_error: 0.5556 - val_wine_type_accuracy: 0.9949\n",
      "Epoch 137/180\n",
      "3155/3155 [==============================] - 0s 53us/sample - loss: 0.2815 - wine_quality_loss: 0.2618 - wine_type_loss: 0.0194 - wine_quality_root_mean_squared_error: 0.5119 - wine_type_accuracy: 0.9965 - val_loss: 0.3368 - val_wine_quality_loss: 0.3098 - val_wine_type_loss: 0.0261 - val_wine_quality_root_mean_squared_error: 0.5571 - val_wine_type_accuracy: 0.9949\n",
      "Epoch 138/180\n",
      "3155/3155 [==============================] - 0s 50us/sample - loss: 0.2804 - wine_quality_loss: 0.2608 - wine_type_loss: 0.0194 - wine_quality_root_mean_squared_error: 0.5108 - wine_type_accuracy: 0.9965 - val_loss: 0.3363 - val_wine_quality_loss: 0.3095 - val_wine_type_loss: 0.0261 - val_wine_quality_root_mean_squared_error: 0.5566 - val_wine_type_accuracy: 0.9949\n",
      "Epoch 139/180\n",
      "3155/3155 [==============================] - 0s 48us/sample - loss: 0.2801 - wine_quality_loss: 0.2615 - wine_type_loss: 0.0193 - wine_quality_root_mean_squared_error: 0.5106 - wine_type_accuracy: 0.9965 - val_loss: 0.3379 - val_wine_quality_loss: 0.3109 - val_wine_type_loss: 0.0261 - val_wine_quality_root_mean_squared_error: 0.5581 - val_wine_type_accuracy: 0.9949\n",
      "Epoch 140/180\n",
      "3155/3155 [==============================] - 0s 52us/sample - loss: 0.2796 - wine_quality_loss: 0.2603 - wine_type_loss: 0.0196 - wine_quality_root_mean_squared_error: 0.5101 - wine_type_accuracy: 0.9965 - val_loss: 0.3318 - val_wine_quality_loss: 0.3050 - val_wine_type_loss: 0.0261 - val_wine_quality_root_mean_squared_error: 0.5526 - val_wine_type_accuracy: 0.9949\n",
      "Epoch 141/180\n",
      "3155/3155 [==============================] - 0s 43us/sample - loss: 0.2795 - wine_quality_loss: 0.2608 - wine_type_loss: 0.0192 - wine_quality_root_mean_squared_error: 0.5101 - wine_type_accuracy: 0.9965 - val_loss: 0.3358 - val_wine_quality_loss: 0.3089 - val_wine_type_loss: 0.0261 - val_wine_quality_root_mean_squared_error: 0.5562 - val_wine_type_accuracy: 0.9949\n",
      "Epoch 142/180\n",
      "3155/3155 [==============================] - 0s 48us/sample - loss: 0.2795 - wine_quality_loss: 0.2602 - wine_type_loss: 0.0191 - wine_quality_root_mean_squared_error: 0.5102 - wine_type_accuracy: 0.9965 - val_loss: 0.3379 - val_wine_quality_loss: 0.3108 - val_wine_type_loss: 0.0262 - val_wine_quality_root_mean_squared_error: 0.5580 - val_wine_type_accuracy: 0.9937\n",
      "Epoch 143/180\n",
      "3155/3155 [==============================] - 0s 47us/sample - loss: 0.2793 - wine_quality_loss: 0.2600 - wine_type_loss: 0.0190 - wine_quality_root_mean_squared_error: 0.5101 - wine_type_accuracy: 0.9965 - val_loss: 0.3391 - val_wine_quality_loss: 0.3121 - val_wine_type_loss: 0.0261 - val_wine_quality_root_mean_squared_error: 0.5592 - val_wine_type_accuracy: 0.9949\n",
      "Epoch 144/180\n",
      "3155/3155 [==============================] - 0s 47us/sample - loss: 0.2779 - wine_quality_loss: 0.2593 - wine_type_loss: 0.0190 - wine_quality_root_mean_squared_error: 0.5087 - wine_type_accuracy: 0.9965 - val_loss: 0.3454 - val_wine_quality_loss: 0.3188 - val_wine_type_loss: 0.0261 - val_wine_quality_root_mean_squared_error: 0.5648 - val_wine_type_accuracy: 0.9949\n",
      "Epoch 145/180\n",
      "3155/3155 [==============================] - 0s 48us/sample - loss: 0.2783 - wine_quality_loss: 0.2594 - wine_type_loss: 0.0189 - wine_quality_root_mean_squared_error: 0.5092 - wine_type_accuracy: 0.9965 - val_loss: 0.3396 - val_wine_quality_loss: 0.3127 - val_wine_type_loss: 0.0261 - val_wine_quality_root_mean_squared_error: 0.5596 - val_wine_type_accuracy: 0.9949\n",
      "Epoch 146/180\n",
      "3155/3155 [==============================] - 0s 47us/sample - loss: 0.2771 - wine_quality_loss: 0.2589 - wine_type_loss: 0.0189 - wine_quality_root_mean_squared_error: 0.5081 - wine_type_accuracy: 0.9965 - val_loss: 0.3370 - val_wine_quality_loss: 0.3101 - val_wine_type_loss: 0.0261 - val_wine_quality_root_mean_squared_error: 0.5573 - val_wine_type_accuracy: 0.9949\n",
      "Epoch 147/180\n",
      "3155/3155 [==============================] - 0s 47us/sample - loss: 0.2780 - wine_quality_loss: 0.2587 - wine_type_loss: 0.0189 - wine_quality_root_mean_squared_error: 0.5091 - wine_type_accuracy: 0.9965 - val_loss: 0.3370 - val_wine_quality_loss: 0.3104 - val_wine_type_loss: 0.0261 - val_wine_quality_root_mean_squared_error: 0.5573 - val_wine_type_accuracy: 0.9949\n",
      "Epoch 148/180\n"
     ]
    },
    {
     "name": "stdout",
     "output_type": "stream",
     "text": [
      "3155/3155 [==============================] - 0s 47us/sample - loss: 0.2767 - wine_quality_loss: 0.2580 - wine_type_loss: 0.0187 - wine_quality_root_mean_squared_error: 0.5079 - wine_type_accuracy: 0.9965 - val_loss: 0.3355 - val_wine_quality_loss: 0.3085 - val_wine_type_loss: 0.0261 - val_wine_quality_root_mean_squared_error: 0.5560 - val_wine_type_accuracy: 0.9949\n",
      "Epoch 149/180\n",
      "3155/3155 [==============================] - 0s 47us/sample - loss: 0.2771 - wine_quality_loss: 0.2585 - wine_type_loss: 0.0187 - wine_quality_root_mean_squared_error: 0.5083 - wine_type_accuracy: 0.9965 - val_loss: 0.3407 - val_wine_quality_loss: 0.3142 - val_wine_type_loss: 0.0260 - val_wine_quality_root_mean_squared_error: 0.5607 - val_wine_type_accuracy: 0.9949\n",
      "Epoch 150/180\n",
      "3155/3155 [==============================] - 0s 47us/sample - loss: 0.2758 - wine_quality_loss: 0.2567 - wine_type_loss: 0.0199 - wine_quality_root_mean_squared_error: 0.5070 - wine_type_accuracy: 0.9965 - val_loss: 0.3340 - val_wine_quality_loss: 0.3072 - val_wine_type_loss: 0.0260 - val_wine_quality_root_mean_squared_error: 0.5547 - val_wine_type_accuracy: 0.9949\n",
      "Epoch 151/180\n",
      "3155/3155 [==============================] - 0s 48us/sample - loss: 0.2750 - wine_quality_loss: 0.2564 - wine_type_loss: 0.0192 - wine_quality_root_mean_squared_error: 0.5063 - wine_type_accuracy: 0.9965 - val_loss: 0.3362 - val_wine_quality_loss: 0.3093 - val_wine_type_loss: 0.0260 - val_wine_quality_root_mean_squared_error: 0.5566 - val_wine_type_accuracy: 0.9949\n",
      "Epoch 152/180\n",
      "3155/3155 [==============================] - 0s 49us/sample - loss: 0.2758 - wine_quality_loss: 0.2568 - wine_type_loss: 0.0185 - wine_quality_root_mean_squared_error: 0.5072 - wine_type_accuracy: 0.9965 - val_loss: 0.3379 - val_wine_quality_loss: 0.3117 - val_wine_type_loss: 0.0258 - val_wine_quality_root_mean_squared_error: 0.5584 - val_wine_type_accuracy: 0.9949\n",
      "Epoch 153/180\n",
      "3155/3155 [==============================] - 0s 46us/sample - loss: 0.2751 - wine_quality_loss: 0.2564 - wine_type_loss: 0.0184 - wine_quality_root_mean_squared_error: 0.5066 - wine_type_accuracy: 0.9965 - val_loss: 0.3413 - val_wine_quality_loss: 0.3143 - val_wine_type_loss: 0.0259 - val_wine_quality_root_mean_squared_error: 0.5613 - val_wine_type_accuracy: 0.9949\n",
      "Epoch 154/180\n",
      "3155/3155 [==============================] - 0s 51us/sample - loss: 0.2745 - wine_quality_loss: 0.2561 - wine_type_loss: 0.0184 - wine_quality_root_mean_squared_error: 0.5060 - wine_type_accuracy: 0.9965 - val_loss: 0.3366 - val_wine_quality_loss: 0.3097 - val_wine_type_loss: 0.0259 - val_wine_quality_root_mean_squared_error: 0.5571 - val_wine_type_accuracy: 0.9949\n",
      "Epoch 155/180\n",
      "3155/3155 [==============================] - 0s 48us/sample - loss: 0.2736 - wine_quality_loss: 0.2554 - wine_type_loss: 0.0183 - wine_quality_root_mean_squared_error: 0.5052 - wine_type_accuracy: 0.9965 - val_loss: 0.3392 - val_wine_quality_loss: 0.3124 - val_wine_type_loss: 0.0259 - val_wine_quality_root_mean_squared_error: 0.5594 - val_wine_type_accuracy: 0.9949\n",
      "Epoch 156/180\n",
      "3155/3155 [==============================] - 0s 46us/sample - loss: 0.2734 - wine_quality_loss: 0.2548 - wine_type_loss: 0.0183 - wine_quality_root_mean_squared_error: 0.5050 - wine_type_accuracy: 0.9965 - val_loss: 0.3381 - val_wine_quality_loss: 0.3118 - val_wine_type_loss: 0.0259 - val_wine_quality_root_mean_squared_error: 0.5584 - val_wine_type_accuracy: 0.9949\n",
      "Epoch 157/180\n",
      "3155/3155 [==============================] - 0s 47us/sample - loss: 0.2738 - wine_quality_loss: 0.2562 - wine_type_loss: 0.0182 - wine_quality_root_mean_squared_error: 0.5055 - wine_type_accuracy: 0.9965 - val_loss: 0.3380 - val_wine_quality_loss: 0.3112 - val_wine_type_loss: 0.0260 - val_wine_quality_root_mean_squared_error: 0.5582 - val_wine_type_accuracy: 0.9949\n",
      "Epoch 158/180\n",
      "3155/3155 [==============================] - 0s 44us/sample - loss: 0.2725 - wine_quality_loss: 0.2546 - wine_type_loss: 0.0181 - wine_quality_root_mean_squared_error: 0.5043 - wine_type_accuracy: 0.9965 - val_loss: 0.3369 - val_wine_quality_loss: 0.3102 - val_wine_type_loss: 0.0259 - val_wine_quality_root_mean_squared_error: 0.5573 - val_wine_type_accuracy: 0.9949\n",
      "Epoch 159/180\n",
      "3155/3155 [==============================] - 0s 47us/sample - loss: 0.2723 - wine_quality_loss: 0.2537 - wine_type_loss: 0.0181 - wine_quality_root_mean_squared_error: 0.5041 - wine_type_accuracy: 0.9965 - val_loss: 0.3546 - val_wine_quality_loss: 0.3276 - val_wine_type_loss: 0.0261 - val_wine_quality_root_mean_squared_error: 0.5728 - val_wine_type_accuracy: 0.9949\n",
      "Epoch 160/180\n",
      "3155/3155 [==============================] - 0s 47us/sample - loss: 0.2725 - wine_quality_loss: 0.2544 - wine_type_loss: 0.0180 - wine_quality_root_mean_squared_error: 0.5044 - wine_type_accuracy: 0.9965 - val_loss: 0.3368 - val_wine_quality_loss: 0.3102 - val_wine_type_loss: 0.0259 - val_wine_quality_root_mean_squared_error: 0.5573 - val_wine_type_accuracy: 0.9949\n",
      "Epoch 161/180\n",
      "3155/3155 [==============================] - 0s 48us/sample - loss: 0.2727 - wine_quality_loss: 0.2547 - wine_type_loss: 0.0180 - wine_quality_root_mean_squared_error: 0.5047 - wine_type_accuracy: 0.9965 - val_loss: 0.3359 - val_wine_quality_loss: 0.3092 - val_wine_type_loss: 0.0259 - val_wine_quality_root_mean_squared_error: 0.5565 - val_wine_type_accuracy: 0.9949\n",
      "Epoch 162/180\n",
      "3155/3155 [==============================] - 0s 49us/sample - loss: 0.2707 - wine_quality_loss: 0.2526 - wine_type_loss: 0.0179 - wine_quality_root_mean_squared_error: 0.5028 - wine_type_accuracy: 0.9965 - val_loss: 0.3417 - val_wine_quality_loss: 0.3156 - val_wine_type_loss: 0.0257 - val_wine_quality_root_mean_squared_error: 0.5619 - val_wine_type_accuracy: 0.9949\n",
      "Epoch 163/180\n",
      "3155/3155 [==============================] - 0s 48us/sample - loss: 0.2707 - wine_quality_loss: 0.2532 - wine_type_loss: 0.0179 - wine_quality_root_mean_squared_error: 0.5027 - wine_type_accuracy: 0.9965 - val_loss: 0.3386 - val_wine_quality_loss: 0.3119 - val_wine_type_loss: 0.0258 - val_wine_quality_root_mean_squared_error: 0.5590 - val_wine_type_accuracy: 0.9949\n",
      "Epoch 164/180\n",
      "3155/3155 [==============================] - 0s 47us/sample - loss: 0.2702 - wine_quality_loss: 0.2524 - wine_type_loss: 0.0181 - wine_quality_root_mean_squared_error: 0.5023 - wine_type_accuracy: 0.9968 - val_loss: 0.3375 - val_wine_quality_loss: 0.3108 - val_wine_type_loss: 0.0259 - val_wine_quality_root_mean_squared_error: 0.5579 - val_wine_type_accuracy: 0.9949\n",
      "Epoch 165/180\n",
      "3155/3155 [==============================] - 0s 47us/sample - loss: 0.2711 - wine_quality_loss: 0.2536 - wine_type_loss: 0.0187 - wine_quality_root_mean_squared_error: 0.5032 - wine_type_accuracy: 0.9965 - val_loss: 0.3445 - val_wine_quality_loss: 0.3177 - val_wine_type_loss: 0.0258 - val_wine_quality_root_mean_squared_error: 0.5642 - val_wine_type_accuracy: 0.9949\n",
      "Epoch 166/180\n",
      "3155/3155 [==============================] - 0s 49us/sample - loss: 0.2701 - wine_quality_loss: 0.2526 - wine_type_loss: 0.0179 - wine_quality_root_mean_squared_error: 0.5023 - wine_type_accuracy: 0.9965 - val_loss: 0.3392 - val_wine_quality_loss: 0.3127 - val_wine_type_loss: 0.0257 - val_wine_quality_root_mean_squared_error: 0.5596 - val_wine_type_accuracy: 0.9949\n",
      "Epoch 167/180\n",
      "3155/3155 [==============================] - 0s 46us/sample - loss: 0.2698 - wine_quality_loss: 0.2519 - wine_type_loss: 0.0177 - wine_quality_root_mean_squared_error: 0.5021 - wine_type_accuracy: 0.9965 - val_loss: 0.3340 - val_wine_quality_loss: 0.3075 - val_wine_type_loss: 0.0258 - val_wine_quality_root_mean_squared_error: 0.5549 - val_wine_type_accuracy: 0.9949\n",
      "Epoch 168/180\n",
      "3155/3155 [==============================] - 0s 49us/sample - loss: 0.2687 - wine_quality_loss: 0.2507 - wine_type_loss: 0.0176 - wine_quality_root_mean_squared_error: 0.5011 - wine_type_accuracy: 0.9968 - val_loss: 0.3323 - val_wine_quality_loss: 0.3055 - val_wine_type_loss: 0.0259 - val_wine_quality_root_mean_squared_error: 0.5532 - val_wine_type_accuracy: 0.9949\n",
      "Epoch 169/180\n"
     ]
    },
    {
     "name": "stdout",
     "output_type": "stream",
     "text": [
      "3155/3155 [==============================] - 0s 47us/sample - loss: 0.2696 - wine_quality_loss: 0.2522 - wine_type_loss: 0.0176 - wine_quality_root_mean_squared_error: 0.5019 - wine_type_accuracy: 0.9965 - val_loss: 0.3419 - val_wine_quality_loss: 0.3155 - val_wine_type_loss: 0.0257 - val_wine_quality_root_mean_squared_error: 0.5620 - val_wine_type_accuracy: 0.9949\n",
      "Epoch 170/180\n",
      "3155/3155 [==============================] - 0s 45us/sample - loss: 0.2687 - wine_quality_loss: 0.2511 - wine_type_loss: 0.0175 - wine_quality_root_mean_squared_error: 0.5011 - wine_type_accuracy: 0.9968 - val_loss: 0.3394 - val_wine_quality_loss: 0.3129 - val_wine_type_loss: 0.0257 - val_wine_quality_root_mean_squared_error: 0.5597 - val_wine_type_accuracy: 0.9949\n",
      "Epoch 171/180\n",
      "3155/3155 [==============================] - 0s 47us/sample - loss: 0.2681 - wine_quality_loss: 0.2501 - wine_type_loss: 0.0175 - wine_quality_root_mean_squared_error: 0.5005 - wine_type_accuracy: 0.9965 - val_loss: 0.3398 - val_wine_quality_loss: 0.3136 - val_wine_type_loss: 0.0257 - val_wine_quality_root_mean_squared_error: 0.5602 - val_wine_type_accuracy: 0.9949\n",
      "Epoch 172/180\n",
      "3155/3155 [==============================] - 0s 48us/sample - loss: 0.2674 - wine_quality_loss: 0.2501 - wine_type_loss: 0.0174 - wine_quality_root_mean_squared_error: 0.4999 - wine_type_accuracy: 0.9968 - val_loss: 0.3386 - val_wine_quality_loss: 0.3121 - val_wine_type_loss: 0.0256 - val_wine_quality_root_mean_squared_error: 0.5592 - val_wine_type_accuracy: 0.9949\n",
      "Epoch 173/180\n",
      "3155/3155 [==============================] - 0s 48us/sample - loss: 0.2661 - wine_quality_loss: 0.2486 - wine_type_loss: 0.0173 - wine_quality_root_mean_squared_error: 0.4987 - wine_type_accuracy: 0.9968 - val_loss: 0.3362 - val_wine_quality_loss: 0.3098 - val_wine_type_loss: 0.0256 - val_wine_quality_root_mean_squared_error: 0.5570 - val_wine_type_accuracy: 0.9949\n",
      "Epoch 174/180\n",
      "3155/3155 [==============================] - 0s 46us/sample - loss: 0.2664 - wine_quality_loss: 0.2489 - wine_type_loss: 0.0173 - wine_quality_root_mean_squared_error: 0.4990 - wine_type_accuracy: 0.9968 - val_loss: 0.3400 - val_wine_quality_loss: 0.3135 - val_wine_type_loss: 0.0257 - val_wine_quality_root_mean_squared_error: 0.5603 - val_wine_type_accuracy: 0.9949\n",
      "Epoch 175/180\n",
      "3155/3155 [==============================] - 0s 50us/sample - loss: 0.2662 - wine_quality_loss: 0.2488 - wine_type_loss: 0.0172 - wine_quality_root_mean_squared_error: 0.4989 - wine_type_accuracy: 0.9968 - val_loss: 0.3552 - val_wine_quality_loss: 0.3284 - val_wine_type_loss: 0.0258 - val_wine_quality_root_mean_squared_error: 0.5737 - val_wine_type_accuracy: 0.9949\n",
      "Epoch 176/180\n",
      "3155/3155 [==============================] - 0s 45us/sample - loss: 0.2660 - wine_quality_loss: 0.2489 - wine_type_loss: 0.0172 - wine_quality_root_mean_squared_error: 0.4987 - wine_type_accuracy: 0.9968 - val_loss: 0.3433 - val_wine_quality_loss: 0.3167 - val_wine_type_loss: 0.0258 - val_wine_quality_root_mean_squared_error: 0.5631 - val_wine_type_accuracy: 0.9949\n",
      "Epoch 177/180\n",
      "3155/3155 [==============================] - 0s 44us/sample - loss: 0.2661 - wine_quality_loss: 0.2489 - wine_type_loss: 0.0171 - wine_quality_root_mean_squared_error: 0.4989 - wine_type_accuracy: 0.9965 - val_loss: 0.3348 - val_wine_quality_loss: 0.3084 - val_wine_type_loss: 0.0257 - val_wine_quality_root_mean_squared_error: 0.5556 - val_wine_type_accuracy: 0.9949\n",
      "Epoch 178/180\n",
      "3155/3155 [==============================] - 0s 46us/sample - loss: 0.2644 - wine_quality_loss: 0.2471 - wine_type_loss: 0.0171 - wine_quality_root_mean_squared_error: 0.4973 - wine_type_accuracy: 0.9968 - val_loss: 0.3342 - val_wine_quality_loss: 0.3078 - val_wine_type_loss: 0.0258 - val_wine_quality_root_mean_squared_error: 0.5550 - val_wine_type_accuracy: 0.9949\n",
      "Epoch 179/180\n",
      "3155/3155 [==============================] - 0s 47us/sample - loss: 0.2661 - wine_quality_loss: 0.2486 - wine_type_loss: 0.0170 - wine_quality_root_mean_squared_error: 0.4990 - wine_type_accuracy: 0.9965 - val_loss: 0.3409 - val_wine_quality_loss: 0.3145 - val_wine_type_loss: 0.0258 - val_wine_quality_root_mean_squared_error: 0.5611 - val_wine_type_accuracy: 0.9949\n",
      "Epoch 180/180\n",
      "3155/3155 [==============================] - 0s 46us/sample - loss: 0.2633 - wine_quality_loss: 0.2458 - wine_type_loss: 0.0170 - wine_quality_root_mean_squared_error: 0.4963 - wine_type_accuracy: 0.9968 - val_loss: 0.3427 - val_wine_quality_loss: 0.3162 - val_wine_type_loss: 0.0256 - val_wine_quality_root_mean_squared_error: 0.5628 - val_wine_type_accuracy: 0.9949\n"
     ]
    }
   ],
   "source": [
    "# Please uncomment all lines in this cell and replace those marked with `# YOUR CODE HERE`.\n",
    "# You can select all lines in this code cell with Ctrl+A (Windows/Linux) or Cmd+A (Mac), then press Ctrl+/ (Windows/Linux) or Cmd+/ (Mac) to uncomment.\n",
    "\n",
    "\n",
    "\n",
    "history = model.fit(x=norm_train_X, y=train_Y, epochs = 180, validation_data=(norm_val_X, val_Y))"
   ]
  },
  {
   "cell_type": "code",
   "execution_count": 29,
   "metadata": {
    "colab": {},
    "colab_type": "code",
    "id": "CubF2J2gSf6q"
   },
   "outputs": [
    {
     "name": "stdout",
     "output_type": "stream",
     "text": [
      "789/789 [==============================] - 0s 28us/sample - loss: 0.3427 - wine_quality_loss: 0.3162 - wine_type_loss: 0.0256 - wine_quality_root_mean_squared_error: 0.5628 - wine_type_accuracy: 0.9949\n",
      "\n",
      "loss: 0.3426556401757384\n",
      "wine_quality_loss: 0.31621357798576355\n",
      "wine_type_loss: 0.025589926168322563\n",
      "wine_quality_rmse: 0.5627920031547546\n",
      "wine_type_accuracy: 0.9949302673339844\n"
     ]
    }
   ],
   "source": [
    "# Gather the training metrics\n",
    "loss, wine_quality_loss, wine_type_loss, wine_quality_rmse, wine_type_accuracy = model.evaluate(x=norm_val_X, y=val_Y)\n",
    "\n",
    "print()\n",
    "print(f'loss: {loss}')\n",
    "print(f'wine_quality_loss: {wine_quality_loss}')\n",
    "print(f'wine_type_loss: {wine_type_loss}')\n",
    "print(f'wine_quality_rmse: {wine_quality_rmse}')\n",
    "print(f'wine_type_accuracy: {wine_type_accuracy}')\n",
    "\n",
    "# EXPECTED VALUES\n",
    "# ~ 0.30 - 0.38\n",
    "# ~ 0.30 - 0.38\n",
    "# ~ 0.018 - 0.030\n",
    "# ~ 0.50 - 0.62\n",
    "# ~ 0.97 - 1.0\n",
    "\n",
    "# Example:\n",
    "#0.3657050132751465\n",
    "#0.3463745415210724\n",
    "#0.019330406561493874\n",
    "#0.5885359048843384\n",
    "#0.9974651336669922"
   ]
  },
  {
   "cell_type": "markdown",
   "metadata": {
    "colab_type": "text",
    "id": "gPtTGAP4usnm"
   },
   "source": [
    "## Analyze the Model Performance\n",
    "\n",
    "Note that the model has two outputs. The output at index 0 is quality and index 1 is wine type\n",
    "\n",
    "So, round the quality predictions to the nearest integer."
   ]
  },
  {
   "cell_type": "code",
   "execution_count": 30,
   "metadata": {
    "colab": {},
    "colab_type": "code",
    "id": "tBq9PEeAaW-Y"
   },
   "outputs": [],
   "source": [
    "predictions = model.predict(norm_test_X)\n",
    "quality_pred = predictions[0]\n",
    "type_pred = predictions[1]"
   ]
  },
  {
   "cell_type": "code",
   "execution_count": 31,
   "metadata": {
    "colab": {},
    "colab_type": "code",
    "id": "YLhgTR4xTIxj"
   },
   "outputs": [
    {
     "name": "stdout",
     "output_type": "stream",
     "text": [
      "[5.5377364]\n"
     ]
    }
   ],
   "source": [
    "print(quality_pred[0])\n",
    "\n",
    "# EXPECTED OUTPUT\n",
    "# 5.6 - 6.0"
   ]
  },
  {
   "cell_type": "code",
   "execution_count": 32,
   "metadata": {
    "colab": {},
    "colab_type": "code",
    "id": "MPi-eYfGTUXi"
   },
   "outputs": [
    {
     "name": "stdout",
     "output_type": "stream",
     "text": [
      "[0.00056089]\n",
      "[0.9999944]\n"
     ]
    }
   ],
   "source": [
    "print(type_pred[0])\n",
    "print(type_pred[944])\n",
    "\n",
    "# EXPECTED OUTPUT\n",
    "# A number close to zero\n",
    "# A number close to or equal to 1"
   ]
  },
  {
   "cell_type": "markdown",
   "metadata": {
    "colab_type": "text",
    "id": "Kohk-9C6vt_s"
   },
   "source": [
    "### Plot Utilities\n",
    "\n",
    "We define a few utilities to visualize the model performance."
   ]
  },
  {
   "cell_type": "code",
   "execution_count": 33,
   "metadata": {
    "colab": {},
    "colab_type": "code",
    "id": "62gEOFUhn6aQ"
   },
   "outputs": [],
   "source": [
    "def plot_metrics(metric_name, title, ylim=5):\n",
    "    plt.title(title)\n",
    "    plt.ylim(0,ylim)\n",
    "    plt.plot(history.history[metric_name],color='blue',label=metric_name)\n",
    "    plt.plot(history.history['val_' + metric_name],color='green',label='val_' + metric_name)\n"
   ]
  },
  {
   "cell_type": "code",
   "execution_count": 34,
   "metadata": {
    "colab": {},
    "colab_type": "code",
    "id": "6rfgSx7uz5dj"
   },
   "outputs": [],
   "source": [
    "def plot_confusion_matrix(y_true, y_pred, title='', labels=[0,1]):\n",
    "    cm = confusion_matrix(y_true, y_pred)\n",
    "    fig = plt.figure()\n",
    "    ax = fig.add_subplot(111)\n",
    "    cax = ax.matshow(cm)\n",
    "    plt.title('Confusion matrix of the classifier')\n",
    "    fig.colorbar(cax)\n",
    "    ax.set_xticklabels([''] + labels)\n",
    "    ax.set_yticklabels([''] + labels)\n",
    "    plt.xlabel('Predicted')\n",
    "    plt.ylabel('True')\n",
    "    fmt = 'd'\n",
    "    thresh = cm.max() / 2.\n",
    "    for i, j in itertools.product(range(cm.shape[0]), range(cm.shape[1])):\n",
    "          plt.text(j, i, format(cm[i, j], fmt),\n",
    "                  horizontalalignment=\"center\",\n",
    "                  color=\"black\" if cm[i, j] > thresh else \"white\")\n",
    "    plt.show()"
   ]
  },
  {
   "cell_type": "code",
   "execution_count": 35,
   "metadata": {
    "colab": {},
    "colab_type": "code",
    "id": "dfVLIqi017Vf"
   },
   "outputs": [],
   "source": [
    "def plot_diff(y_true, y_pred, title = '' ):\n",
    "    plt.scatter(y_true, y_pred)\n",
    "    plt.title(title)\n",
    "    plt.xlabel('True Values')\n",
    "    plt.ylabel('Predictions')\n",
    "    plt.axis('equal')\n",
    "    plt.axis('square')\n",
    "    plt.plot([-100, 100], [-100, 100])\n",
    "    return plt"
   ]
  },
  {
   "cell_type": "markdown",
   "metadata": {
    "colab_type": "text",
    "id": "8sd1jdFbwE0I"
   },
   "source": [
    "### Plots for Metrics"
   ]
  },
  {
   "cell_type": "code",
   "execution_count": 36,
   "metadata": {
    "colab": {},
    "colab_type": "code",
    "id": "f3MwZ5J1pOfj"
   },
   "outputs": [
    {
     "data": {
      "image/png": "[encoded data removed]",
      "text/plain": [
       "<Figure size 432x288 with 1 Axes>"
      ]
     },
     "metadata": {
      "needs_background": "light"
     },
     "output_type": "display_data"
    }
   ],
   "source": [
    "plot_metrics('wine_quality_root_mean_squared_error', 'RMSE', ylim=2)"
   ]
  },
  {
   "cell_type": "code",
   "execution_count": 37,
   "metadata": {
    "colab": {},
    "colab_type": "code",
    "id": "QIAxEezCppnd"
   },
   "outputs": [
    {
     "data": {
      "image/png": "[encoded data removed]",
      "text/plain": [
       "<Figure size 432x288 with 1 Axes>"
      ]
     },
     "metadata": {
      "needs_background": "light"
     },
     "output_type": "display_data"
    }
   ],
   "source": [
    "plot_metrics('wine_type_loss', 'Wine Type Loss', ylim=0.2)"
   ]
  },
  {
   "cell_type": "markdown",
   "metadata": {
    "colab_type": "text",
    "id": "uYV9AOAMwI9p"
   },
   "source": [
    "### Plots for Confusion Matrix\n",
    "\n",
    "Plot the confusion matrices for wine type. You can see that the model performs well for prediction of wine type from the confusion matrix and the loss metrics."
   ]
  },
  {
   "cell_type": "code",
   "execution_count": 38,
   "metadata": {
    "colab": {},
    "colab_type": "code",
    "id": "C3hvTYxIaf3n"
   },
   "outputs": [
    {
     "data": {
      "image/png": "[encoded data removed]",
      "text/plain": [
       "<Figure size 432x288 with 2 Axes>"
      ]
     },
     "metadata": {
      "needs_background": "light"
     },
     "output_type": "display_data"
    }
   ],
   "source": [
    "plot_confusion_matrix(test_Y[1], np.round(type_pred), title='Wine Type', labels = [0, 1])"
   ]
  },
  {
   "cell_type": "code",
   "execution_count": 39,
   "metadata": {
    "colab": {},
    "colab_type": "code",
    "id": "GW91ym8P2I5y"
   },
   "outputs": [
    {
     "data": {
      "image/png": "[encoded data removed]",
      "text/plain": [
       "<Figure size 432x288 with 1 Axes>"
      ]
     },
     "metadata": {
      "needs_background": "light"
     },
     "output_type": "display_data"
    }
   ],
   "source": [
    "scatter_plot = plot_diff(test_Y[0], quality_pred, title='Type')"
   ]
  },
  {
   "cell_type": "code",
   "execution_count": null,
   "metadata": {},
   "outputs": [],
   "source": []
  }
 ],
 "metadata": {
  "colab": {
   "include_colab_link": true,
   "name": "exercise-answer.ipynb",
   "provenance": []
  },
  "kernelspec": {
   "display_name": "tensorflow_adv",
   "language": "python",
   "name": "tensorflow_adv"
  },
  "language_info": {
   "codemirror_mode": {
    "name": "ipython",
    "version": 3
   },
   "file_extension": ".py",
   "mimetype": "text/x-python",
   "name": "python",
   "nbconvert_exporter": "python",
   "pygments_lexer": "ipython3",
   "version": "3.7.6"
  }
 },
 "nbformat": 4,
 "nbformat_minor": 4
}
